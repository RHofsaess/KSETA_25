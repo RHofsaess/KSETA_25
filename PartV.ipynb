{
 "cells": [
  {
   "cell_type": "markdown",
   "id": "735822eb-8158-4176-b774-63b655c21fc6",
   "metadata": {},
   "source": [
    "# Part V: Utilizing AI"
   ]
  },
  {
   "cell_type": "markdown",
   "id": "2ec6d1ec-7640-44c1-a4dd-f932460bead1",
   "metadata": {},
   "source": [
    "## Beeing Specific Matters!\n",
    "The following example shows, why it is important to be specific and know what you want, because AI may not by default provide the best result.\n",
    "(Howver, if you ask for the most performant implementation, it will probably work as well. The most important thing is to be specific!)"
   ]
  },
  {
   "cell_type": "markdown",
   "id": "78ffaf17-6652-42db-9785-cdeba7ea2c6b",
   "metadata": {},
   "source": [
    "### 1st Promt\n",
    "\"How can I sum the squares of numbers from 1 to N in Python?\""
   ]
  },
  {
   "cell_type": "code",
   "execution_count": null,
   "id": "8c93fa12-fe5e-47f6-ba99-93b2e7aa7efa",
   "metadata": {},
   "outputs": [],
   "source": [
    "%%time\n",
    "N = 10000\n",
    "for j in range(100):\n",
    "    result = sum(i**2 for i in range(1, N + 1))"
   ]
  },
  {
   "cell_type": "markdown",
   "id": "8aee8678-150f-4051-8550-e549e9fa5c6b",
   "metadata": {},
   "source": [
    "### 2nd Promt\n",
    "\"How can I sum the squares of numbers from 1 to N in python with numpy\""
   ]
  },
  {
   "cell_type": "code",
   "execution_count": null,
   "id": "0d5a67a9-5dc2-422c-ae70-fd95d920e666",
   "metadata": {},
   "outputs": [],
   "source": [
    "%%time\n",
    "import numpy as np\n",
    "N = 10000\n",
    "for j in range(100):\n",
    "    result = np.sum(np.arange(1, N + 1)**2)"
   ]
  },
  {
   "cell_type": "code",
   "execution_count": null,
   "id": "cd1204c1-8e5d-45ed-9286-fdf989abe7fd",
   "metadata": {},
   "outputs": [],
   "source": [
    "%%time\n",
    "def sum_squares_py(N: int) -> int:\n",
    "    return sum(i * i for i in range(1, N + 1))\n",
    "\n",
    "N = 10000\n",
    "for j in range(100):\n",
    "    sum_squares_py(N)"
   ]
  },
  {
   "cell_type": "markdown",
   "id": "ddd674c7-72b3-4bc6-9053-807e2599b9cc",
   "metadata": {},
   "source": [
    "### 3rd Prompt\n",
    "\"How can I sum the squares of numbers from 1 to N in Python? Please provide the most performant implementation, except the close formular\""
   ]
  },
  {
   "cell_type": "code",
   "execution_count": null,
   "id": "51b5d995-14f2-42bb-8523-71cd5b90e623",
   "metadata": {},
   "outputs": [],
   "source": [
    "%%time\n",
    "def sum_squares_numpy(N: int) -> int:\n",
    "    arr = np.arange(1, N + 1, dtype=np.int64)\n",
    "    return np.sum(arr * arr)\n",
    "\n",
    "N = 10000\n",
    "for j in range(100):\n",
    "    sum_squares_py(N)"
   ]
  },
  {
   "cell_type": "markdown",
   "id": "fb0aaf9f-630d-41e3-98bf-cd2450885977",
   "metadata": {},
   "source": [
    "______________"
   ]
  },
  {
   "cell_type": "markdown",
   "id": "269a8518-f280-46ec-a7bd-1a0913b65286",
   "metadata": {},
   "source": [
    "## Plotting Excercise"
   ]
  },
  {
   "cell_type": "markdown",
   "id": "ae65b1a7-ec6f-494d-a4b1-cf09bdb92f1e",
   "metadata": {},
   "source": [
    "**Exercise**:\n",
    "```\n",
    "Let’s generate some LHC mock data of a Z-> mu mu analysis and visualize it.\n",
    "\n",
    "The data should contain:\n",
    "pT mu1, pT mu2, raw pT mu1, raw pT mu2, corr1, corr2, theta mu1, theta mu2, phi mu1 phi mu2, pT Z, eta Z\n",
    "Make sure that the distributions make sense (e.g. by visualizing them!)\n",
    "+ Verify with some statistics checks\n",
    "Now, please create plots:\n",
    "1) The histogram of the Z-> mu mu candidate invariant mass, overlayed with mu1/2 distributions\n",
    "2) Below, the pT Z distribution\n",
    "3) Next line: polar (left)  and azimuth (right) distributions of both muons\n",
    "4) In the next line, on the left, the mu1 pT distribution and the raw pT with a subplot of the average correction factor per bin below. The same on the right for mu2.\n",
    "Optional: Use the mplhep package to make them look like CMS plots\n",
    "Overlay ALL plots with “FAKE”\n",
    "```"
   ]
  },
  {
   "cell_type": "markdown",
   "id": "32531183-64f2-41f2-a0f4-ef9da5d822f3",
   "metadata": {},
   "source": [
    "**Some Recommendations**:\n",
    "- In case you are not memory bound, do the data loading once and keep the original data cached\n",
    "- It is mostly always a good idea to start simple and extend it\n",
    "- Even though it is very convenient to just c&p, at least try to shortly understand what AI recommends you to implement. Especially, make sure that the correct data is used, nothing is changed, and so on"
   ]
  },
  {
   "cell_type": "code",
   "execution_count": null,
   "id": "c4d56012-4d95-44f7-a6b3-c0c22fc1c08b",
   "metadata": {},
   "outputs": [],
   "source": []
  },
  {
   "cell_type": "code",
   "execution_count": null,
   "id": "5ca77c02-9da2-4033-8710-b5510e5bae07",
   "metadata": {},
   "outputs": [],
   "source": []
  },
  {
   "cell_type": "code",
   "execution_count": null,
   "id": "590cc439-b964-4c75-958c-47ec36ba5632",
   "metadata": {},
   "outputs": [],
   "source": []
  },
  {
   "cell_type": "code",
   "execution_count": null,
   "id": "d8979e8b-ee8d-4262-a299-412a8d13ee5c",
   "metadata": {},
   "outputs": [],
   "source": []
  },
  {
   "cell_type": "code",
   "execution_count": null,
   "id": "024dbfe5-6356-4fce-92d6-425138e2ace8",
   "metadata": {},
   "outputs": [],
   "source": []
  },
  {
   "cell_type": "code",
   "execution_count": null,
   "id": "d4c7bf30-aa8e-4f25-a5eb-7e14a47f2f69",
   "metadata": {},
   "outputs": [],
   "source": []
  },
  {
   "cell_type": "code",
   "execution_count": null,
   "id": "32adec48-592d-4ca3-9bdd-416da64a2ee1",
   "metadata": {},
   "outputs": [],
   "source": []
  },
  {
   "cell_type": "code",
   "execution_count": null,
   "id": "5af078bf-3a22-4b8e-9401-a02b1e97cda7",
   "metadata": {},
   "outputs": [],
   "source": []
  },
  {
   "cell_type": "code",
   "execution_count": null,
   "id": "13ad50a8-c1e6-419a-aea1-23c9e240a4b0",
   "metadata": {},
   "outputs": [],
   "source": []
  },
  {
   "cell_type": "code",
   "execution_count": null,
   "id": "416b2485-ce6c-4777-9270-19435af32fa9",
   "metadata": {},
   "outputs": [],
   "source": []
  },
  {
   "cell_type": "markdown",
   "id": "fe949683-33c2-48fe-9555-4956e31dfcd1",
   "metadata": {},
   "source": [
    "### One Possible (AI) Solution"
   ]
  },
  {
   "cell_type": "markdown",
   "id": "49b2d6e5-82ad-4af1-930a-55dc83bfb9e6",
   "metadata": {},
   "source": [
    "#### First: Generate the Mock Data"
   ]
  },
  {
   "cell_type": "code",
   "execution_count": null,
   "id": "7bd7f8e0-6e89-4dfc-8a0e-0debed33fa73",
   "metadata": {},
   "outputs": [],
   "source": [
    "# Final physics-consistent Z→μ⁺μ⁻ toy generator with calibrated raw/corrected pT\n",
    "# - Generate Z kinematics: pT^Z (soft), eta_Z (central), phi_Z (uniform), m_Z (Gaussian around PDG)\n",
    "# - Isotropic decay in Z rest frame, boost to lab\n",
    "# - Apply small per-muon calibration factors to define raw/corrected pT\n",
    "# - Drop any unphysical events\n",
    "\n",
    "import numpy as np\n",
    "import pandas as pd\n",
    "\n",
    "# Constants\n",
    "MZ_MEAN = 91.1876  # GeV\n",
    "MZ_SIGMA = 2.5     # GeV (toy width; not a full detector resolution model)\n",
    "MMU = 0.1056583745 # GeV\n",
    "\n",
    "rng = np.random.default_rng(12345)\n",
    "N = 10_000\n",
    "\n",
    "def fourvec(E, px, py, pz):\n",
    "    return np.stack([E, px, py, pz], axis=-1)\n",
    "\n",
    "def boost(fv, beta):\n",
    "    \"\"\"Lorentz-boost four-vectors fv by 3-velocity beta (arrays broadcast).\"\"\"\n",
    "    b2 = np.sum(beta**2, axis=-1, keepdims=True)\n",
    "    # Ensure |beta|<1 (drop rare pathological numerics later if any)\n",
    "    gamma = 1.0 / np.sqrt(1.0 - b2 + 1e-16)\n",
    "    bp = np.sum(beta * fv[...,1:], axis=-1, keepdims=True)\n",
    "    E_prime = gamma * (fv[...,0:1] + bp)\n",
    "    factor = (gamma - 1.0) / (b2 + 1e-16)\n",
    "    spatial = fv[...,1:] + factor * bp * beta + gamma * beta * fv[...,0:1]\n",
    "    return np.concatenate([E_prime, spatial], axis=-1)\n",
    "\n",
    "def phi_from_p(px, py):\n",
    "    a = np.arctan2(py, px)\n",
    "    a = np.where(a < 0, a + 2*np.pi, a)\n",
    "    return a\n",
    "\n",
    "def theta_from_p(px, py, pz):\n",
    "    p = np.sqrt(px*px + py*py + pz*pz)\n",
    "    cos_th = np.clip(pz / (p + 1e-16), -1.0, 1.0)\n",
    "    return np.arccos(cos_th)\n",
    "\n",
    "# --- 1) Generate Z bosons ---\n",
    "# Soft pT spectrum (Gamma k=2, theta=12 GeV -> mean 24 GeV); tuneable for realism\n",
    "pT_Z = rng.gamma(shape=2.0, scale=12.0, size=N)\n",
    "phi_Z = rng.uniform(0, 2*np.pi, size=N)        # uniform\n",
    "eta_Z = rng.normal(0.0, 1.0, size=N)           # central\n",
    "m_Z = rng.normal(MZ_MEAN, MZ_SIGMA, size=N)    # toy mass width\n",
    "\n",
    "px_Z = pT_Z * np.cos(phi_Z)\n",
    "py_Z = pT_Z * np.sin(phi_Z)\n",
    "pz_Z = pT_Z * np.sinh(eta_Z)\n",
    "pZ_mag2 = px_Z**2 + py_Z**2 + pz_Z**2\n",
    "E_Z = np.sqrt(m_Z**2 + pZ_mag2)\n",
    "\n",
    "PZ = np.stack([px_Z, py_Z, pz_Z], axis=-1)\n",
    "beta_Z = PZ / E_Z[:,None]\n",
    "\n",
    "# --- 2) Z → μ⁺μ⁻ isotropic in Z rest frame ---\n",
    "p_star = 0.5 * np.sqrt(np.maximum(m_Z**2 - 4*MMU**2, 0.0))   # two-body momentum\n",
    "E_star = np.sqrt(p_star**2 + MMU**2)\n",
    "\n",
    "cos_th = rng.uniform(-1.0, 1.0, size=N)  # uniform in cos(theta*)\n",
    "sin_th = np.sqrt(np.maximum(1.0 - cos_th**2, 0.0))\n",
    "phi_star = rng.uniform(0, 2*np.pi, size=N)\n",
    "\n",
    "px1_star = p_star * sin_th * np.cos(phi_star)\n",
    "py1_star = p_star * sin_th * np.sin(phi_star)\n",
    "pz1_star = p_star * cos_th\n",
    "\n",
    "mu1_rf = fourvec(E_star, px1_star, py1_star, pz1_star)\n",
    "mu2_rf = fourvec(E_star, -px1_star, -py1_star, -pz1_star)\n",
    "\n",
    "# --- 3) Boost to lab ---\n",
    "mu1_lab = boost(mu1_rf, beta_Z)\n",
    "mu2_lab = boost(mu2_rf, beta_Z)\n",
    "\n",
    "E1, px1, py1, pz1 = mu1_lab[:,0], mu1_lab[:,1], mu1_lab[:,2], mu1_lab[:,3]\n",
    "E2, px2, py2, pz2 = mu2_lab[:,0], mu2_lab[:,1], mu2_lab[:,2], mu2_lab[:,3]\n",
    "\n",
    "# --- 4) Compute observables (lab) ---\n",
    "pT_mu1_truth = np.sqrt(px1**2 + py1**2)\n",
    "pT_mu2_truth = np.sqrt(px2**2 + py2**2)\n",
    "phi_mu1 = phi_from_p(px1, py1)\n",
    "phi_mu2 = phi_from_p(px2, py2)\n",
    "theta_mu1 = theta_from_p(px1, py1, pz1)\n",
    "theta_mu2 = theta_from_p(px2, py2, pz2)\n",
    "\n",
    "# invariant mass of the pair (should peak near MZ_MEAN)\n",
    "E_sum = E1 + E2\n",
    "px_sum = px1 + px2\n",
    "py_sum = py1 + py2\n",
    "pz_sum = pz1 + pz2\n",
    "m_mumu = np.sqrt(np.maximum(E_sum**2 - (px_sum**2 + py_sum**2 + pz_sum**2), 0.0))\n",
    "\n",
    "# --- 5) Apply small per-muon calibration to define raw/corrected pT ---\n",
    "corr_mu1 = rng.normal(1.01, 0.02, size=N).clip(0.95, 1.05)\n",
    "corr_mu2 = rng.normal(1.00, 0.02, size=N).clip(0.95, 1.05)\n",
    "pT_mu1_raw = pT_mu1_truth / corr_mu1\n",
    "pT_mu2_raw = pT_mu2_truth / corr_mu2\n",
    "pT_mu1_corr = pT_mu1_raw * corr_mu1\n",
    "pT_mu2_corr = pT_mu2_raw * corr_mu2\n",
    "\n",
    "# --- 6) Drop any unphysical results ---\n",
    "mask = np.isfinite(E1) & np.isfinite(E2) & np.isfinite(pT_Z) & np.isfinite(eta_Z) & \\\n",
    "       np.isfinite(theta_mu1) & np.isfinite(theta_mu2) & np.isfinite(phi_mu1) & np.isfinite(phi_mu2) & \\\n",
    "       (E1 > 0) & (E2 > 0) & (m_mumu > 0)\n",
    "\n",
    "# Optional gentle detector-like sanity: keep |eta_Z|<3.5 (broad), pT_Z<200 GeV to tame outliers\n",
    "mask &= (np.abs(eta_Z) < 3.5) & (pT_Z < 200.0)\n",
    "\n",
    "df = pd.DataFrame({\n",
    "    \"pT_mu1_raw\": pT_mu1_raw[mask],\n",
    "    \"pT_mu2_raw\": pT_mu2_raw[mask],\n",
    "    \"corr_mu1\": corr_mu1[mask],\n",
    "    \"corr_mu2\": corr_mu2[mask],\n",
    "    \"pT_mu1\": pT_mu1_corr[mask],\n",
    "    \"pT_mu2\": pT_mu2_corr[mask],\n",
    "    \"pT_Z\": pT_Z[mask],\n",
    "    \"theta_mu1\": theta_mu1[mask],\n",
    "    \"theta_mu2\": theta_mu2[mask],\n",
    "    \"phi_mu1\": phi_mu1[mask],\n",
    "    \"phi_mu2\": phi_mu2[mask],\n",
    "    \"eta_Z\": eta_Z[mask],\n",
    "    \"m_mumu\": m_mumu[mask]\n",
    "})\n",
    "\n",
    "out_path = \"muon_pairs_10000.csv\"\n",
    "df.to_csv(out_path, index=False)\n",
    "out_path\n"
   ]
  },
  {
   "cell_type": "markdown",
   "id": "caf425c9-91be-43ba-81b7-e49497311061",
   "metadata": {},
   "source": [
    "#### Load the Data"
   ]
  },
  {
   "cell_type": "code",
   "execution_count": null,
   "id": "9cda01d5-f2b8-45e2-89d1-5c43f041a799",
   "metadata": {},
   "outputs": [],
   "source": [
    "import pandas as pd\n",
    "import matplotlib.pyplot as plt\n",
    "\n",
    "df = pd.read_csv(\"muon_pairs_10000.csv\")\n",
    "\n",
    "# Instect:\n",
    "print(df.head())\n",
    "print(df.describe())"
   ]
  },
  {
   "cell_type": "markdown",
   "id": "2eee9eeb-2f18-4be0-83f1-ed5b1cf47dab",
   "metadata": {},
   "source": [
    "#### Validate the Data"
   ]
  },
  {
   "cell_type": "code",
   "execution_count": null,
   "id": "db3ab3a8-62df-44c7-ad4b-8d6eb81ee47a",
   "metadata": {},
   "outputs": [],
   "source": [
    "print(\"⟨m_mumu⟩ ≈\", df[\"m_mumu\"].mean())\n",
    "print(\"⟨pT_Z⟩   ≈\", df[\"pT_Z\"].mean())\n",
    "\n",
    "fig, ax = plt.subplots(1,2, figsize=(10,4))\n",
    "ax[0].hist(df[\"pT_Z\"], bins=40)\n",
    "ax[0].set_xlabel(r\"$p_T^Z$ [GeV]\"); ax[0].set_ylabel(\"Counts\"); ax[0].set_title(\"Z $p_T$ (soft)\")\n",
    "\n",
    "ax[1].hist(df[\"m_mumu\"], bins=80)\n",
    "ax[1].set_xlabel(r\"$m_{\\mu\\mu}$ [GeV]\"); ax[1].set_ylabel(\"Counts\"); ax[1].set_title(\"Z mass peak (~91 GeV)\")\n",
    "plt.tight_layout(); plt.show()\n"
   ]
  },
  {
   "cell_type": "markdown",
   "id": "f5b04cdf-021d-4b5d-96ef-eb3c58bf07e9",
   "metadata": {},
   "source": [
    "#### Plotting"
   ]
  },
  {
   "cell_type": "code",
   "execution_count": null,
   "id": "4f1ff172-e74c-4966-9f3d-bd1520f472bd",
   "metadata": {},
   "outputs": [],
   "source": [
    "import numpy as np\n",
    "import pandas as pd\n",
    "import matplotlib.pyplot as plt\n",
    "import mplhep as hep\n",
    "from matplotlib.gridspec import GridSpec, GridSpecFromSubplotSpec\n",
    "\n",
    "# --- CMS style setup ---\n",
    "plt.style.use(hep.style.CMS)\n",
    "#hep.cms.label(\"Preliminary\", data=True, year=2022, lumi=138, loc=0)\n",
    "\n",
    "\n",
    "# --- Derived proxies for illustration ---\n",
    "m_mu1 = df[\"pT_mu1\"] * np.cosh(df[\"eta_Z\"] / 2)\n",
    "m_mu2 = df[\"pT_mu2\"] * np.cosh(df[\"eta_Z\"] / 2)\n",
    "\n",
    "# --- Binning ---\n",
    "bins_mass  = np.linspace(df[\"m_mumu\"].min(), df[\"m_mumu\"].max(), 100)\n",
    "bins_pT    = np.linspace(0, df[\"pT_Z\"].max(), 40)\n",
    "bins_theta = np.linspace(0, np.pi, 50)\n",
    "bins_phi   = np.linspace(0, 2*np.pi, 50)\n",
    "bins_raw   = np.linspace(df[[\"pT_mu1_raw\",\"pT_mu2_raw\"]].min().min(),\n",
    "                         df[[\"pT_mu1_raw\",\"pT_mu2_raw\"]].max().max(), 30)\n",
    "\n",
    "def avg_corr(raw, corr, bins):\n",
    "    cats = pd.cut(raw, bins=bins, include_lowest=True)\n",
    "    means = corr.groupby(cats).mean().to_numpy()\n",
    "    centers = 0.5*(bins[1:]+bins[:-1])\n",
    "    return centers, means\n",
    "\n",
    "c_mu1_x, c_mu1_y = avg_corr(df[\"pT_mu1_raw\"], df[\"corr_mu1\"], bins_raw)\n",
    "c_mu2_x, c_mu2_y = avg_corr(df[\"pT_mu2_raw\"], df[\"corr_mu2\"], bins_raw)\n",
    "\n",
    "# --- Figure layout (wider figure) ---\n",
    "fig = plt.figure(figsize=(16, 20))  # <-- wider figure\n",
    "gs  = GridSpec(4, 2, height_ratios=[0.8, 0.8, 1, 1.3], figure=fig)\n",
    "\n",
    "ax_mass = fig.add_subplot(gs[0, :])   # full-width Z mass\n",
    "ax_pTZ  = fig.add_subplot(gs[1, :])   # full-width Z pT\n",
    "ax_th   = fig.add_subplot(gs[2, 0])   # θ plots\n",
    "ax_phi  = fig.add_subplot(gs[2, 1])   # φ plots\n",
    "\n",
    "gsb_L   = GridSpecFromSubplotSpec(2, 1, subplot_spec=gs[3, 0], height_ratios=[3, 1])\n",
    "gsb_R   = GridSpecFromSubplotSpec(2, 1, subplot_spec=gs[3, 1], height_ratios=[3, 1])\n",
    "ax_mu1_hist = fig.add_subplot(gsb_L[0])\n",
    "ax_mu1_corr = fig.add_subplot(gsb_L[1], sharex=ax_mu1_hist)\n",
    "ax_mu2_hist = fig.add_subplot(gsb_R[0])\n",
    "ax_mu2_corr = fig.add_subplot(gsb_R[1], sharex=ax_mu2_hist)\n",
    "\n",
    "# --- Row 1: Z invariant mass (full range), with reference lines ---\n",
    "counts_z, edges_z = np.histogram(df[\"m_mumu\"], bins=bins_mass)\n",
    "hep.histplot(counts_z, edges_z, ax=ax_mass, histtype=\"fill\", label=r\"$m_{\\mu\\mu}$\", color=\"lightgray\")\n",
    "\n",
    "# annotate PDG M_Z and sample mean ± std\n",
    "MZ_PDG = 91.1876\n",
    "mu = df[\"m_mumu\"].mean()\n",
    "sigma = df[\"m_mumu\"].std()\n",
    "\n",
    "for x, lab, ls in [(MZ_PDG, r\"$M_Z^{\\rm PDG}$\", \"-.\"), (mu, r\"$\\langle m_{\\mu\\mu}\\rangle$\", \"--\")]:\n",
    "    ax_mass.axvline(x, color=\"black\", ls=ls, lw=1.2, label=lab)\n",
    "ax_mass.axvspan(mu - sigma, mu + sigma, color=\"k\", alpha=0.08, label=r\"$\\pm1\\sigma$\")\n",
    "\n",
    "ax_mass.set_xlabel(r\"$m_{\\mu\\mu}$ [GeV]\")\n",
    "ax_mass.set_ylabel(\"Events\")\n",
    "ax_mass.set_title(r\"Z Candidate Invariant Mass (Full Range)\")\n",
    "ax_mass.legend(loc=\"upper right\")\n",
    "\n",
    "# --- Row 2: Z pT ---\n",
    "counts_pT, edges_pT = np.histogram(df[\"pT_Z\"], bins=bins_pT)\n",
    "hep.histplot(counts_pT, edges_pT, ax=ax_pTZ, histtype=\"fill\", color=\"lightgray\")\n",
    "ax_pTZ.set_xlabel(r\"$p_T^Z$ [GeV]\")\n",
    "ax_pTZ.set_ylabel(\"Events\")\n",
    "ax_pTZ.set_title(r\"Z Transverse Momentum Spectrum (Soft)\")\n",
    "ax_pTZ.legend().remove()\n",
    "\n",
    "# --- Row 3: angular distributions ---\n",
    "for col, lbl, c in zip([\"theta_mu1\",\"theta_mu2\"], [r\"$\\theta_{\\mu_1}$\", r\"$\\theta_{\\mu_2}$\"], [\"red\",\"blue\"]):\n",
    "    vals, edges = np.histogram(df[col], bins=bins_theta)\n",
    "    hep.histplot(vals, edges, ax=ax_th, histtype=\"step\", label=lbl, color=c)\n",
    "ax_th.set_xlabel(r\"$\\theta$ [rad]\")\n",
    "ax_th.set_ylabel(\"Events\")\n",
    "ax_th.set_title(\"Muon Polar Angle Distributions\")\n",
    "ax_th.legend(fontsize=11)\n",
    "\n",
    "for col, lbl, c in zip([\"phi_mu1\",\"phi_mu2\"], [r\"$\\phi_{\\mu_1}$\", r\"$\\phi_{\\mu_2}$\"], [\"red\",\"blue\"]):\n",
    "    vals, edges = np.histogram(df[col], bins=bins_phi)\n",
    "    hep.histplot(vals, edges, ax=ax_phi, histtype=\"step\", label=lbl, color=c)\n",
    "ax_phi.set_xlabel(r\"$\\phi$ [rad]\")\n",
    "ax_phi.set_ylabel(\"Events\")\n",
    "ax_phi.set_title(\"Muon Azimuthal Angle Distributions\")\n",
    "ax_phi.legend(fontsize=11)\n",
    "\n",
    "# --- Row 4: μ1 and μ2 pT + correction ---\n",
    "for axH, axC, mu, color in [(ax_mu1_hist, ax_mu1_corr, \"mu1\", \"red\"), (ax_mu2_hist, ax_mu2_corr, \"mu2\", \"blue\")]:\n",
    "    raw = df[f\"pT_{mu}_raw\"]\n",
    "    cor = df[f\"pT_{mu}\"]\n",
    "    vals_raw, edges_raw = np.histogram(raw, bins=bins_raw)\n",
    "    vals_cor, _ = np.histogram(cor, bins=bins_raw)\n",
    "    hep.histplot(vals_raw, edges_raw, ax=axH, histtype=\"step\", label=\"raw\", color=\"gray\")\n",
    "    hep.histplot(vals_cor, edges_raw, ax=axH, histtype=\"step\", label=\"corrected\", color=color)\n",
    "    axH.set_ylabel(\"Events\"); axH.legend(fontsize=11)\n",
    "    axH.set_title(fr\"$\\mu_{{{1 if mu=='mu1' else 2}}}$ Transverse Momentum\")\n",
    "    centers, means = (c_mu1_x, c_mu1_y) if mu==\"mu1\" else (c_mu2_x, c_mu2_y)\n",
    "    axC.plot(centers, means, marker=\"o\", color=\"black\")\n",
    "    axC.axhline(1.0, ls=\"--\", color=\"gray\")\n",
    "    axC.set_xlabel(r\"$p_T^{raw}$ [GeV]\"); axC.set_ylabel(r\"$\\langle \\mathrm{corr} \\rangle$\")\n",
    "\n",
    "for ax in fig.axes:\n",
    "    ax.grid(True, linestyle=\"--\", alpha=0.4)\n",
    "\n",
    "plt.tight_layout(pad=2.0, h_pad=2.0, w_pad=2.5)\n",
    "\n",
    "# Add watermark\n",
    "fig.text(\n",
    "    0.5, 0.5, \"FAKE\",\n",
    "    color=\"red\",\n",
    "    fontsize=180,\n",
    "    ha=\"center\",\n",
    "    va=\"center\",\n",
    "    alpha=0.12,\n",
    "    rotation=30,\n",
    "    weight=\"bold\",\n",
    "    transform=fig.transFigure,\n",
    ")\n",
    "\n",
    "plt.savefig(\"fake_z.png\")\n",
    "plt.show()\n"
   ]
  },
  {
   "cell_type": "code",
   "execution_count": null,
   "id": "7f746698-79f5-44b8-8e73-49b64a618a42",
   "metadata": {},
   "outputs": [],
   "source": []
  }
 ],
 "metadata": {
  "kernelspec": {
   "display_name": "Python 3",
   "language": "python",
   "name": "python3"
  },
  "language_info": {
   "codemirror_mode": {
    "name": "ipython",
    "version": 3
   },
   "file_extension": ".py",
   "mimetype": "text/x-python",
   "name": "python",
   "nbconvert_exporter": "python",
   "pygments_lexer": "ipython3",
   "version": "3.11.9"
  }
 },
 "nbformat": 4,
 "nbformat_minor": 5
}
