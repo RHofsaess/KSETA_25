{
 "cells": [
  {
   "cell_type": "markdown",
   "id": "16923be4-518f-4919-8d8d-ca7bef82da3b",
   "metadata": {},
   "source": [
    "# Jupyter Tips"
   ]
  },
  {
   "cell_type": "markdown",
   "id": "9963e13e",
   "metadata": {},
   "source": [
    "- There are two modes: command mode and edit mode. The edit mode is entered when you click in a cell to edit it. You can leave it with \"Esc\". The command mode allows:\n",
    "    - \"h\": Help\n",
    "    - \"b\": Creating a cell\n",
    "    - \"m\": Switch cell type to Markdown\n",
    "    - \"y\": Switch cell type to Code\n",
    "    - \"Ctrl+Enter\": Run selected cell(s)\n",
    "    - \"d\": Delete a cell"
   ]
  },
  {
   "cell_type": "markdown",
   "id": "4ab55fec-7fbd-4a6b-bb96-751d0b1ffbe5",
   "metadata": {},
   "source": [
    "You can use \"!\" to execute **bash commands**:"
   ]
  },
  {
   "cell_type": "code",
   "execution_count": 1,
   "id": "4b8f9de7",
   "metadata": {
    "scrolled": true
   },
   "outputs": [
    {
     "name": "stdout",
     "output_type": "stream",
     "text": [
      "PartIII_IV.ipynb  Tag_1.ipynb\t  __pycache__  solutions.py\t tcsccourse\n",
      "PartI_II.ipynb\t  Untitled.ipynb  solutions    speed_comparison  tips.py\n"
     ]
    }
   ],
   "source": [
    "!ls"
   ]
  },
  {
   "cell_type": "markdown",
   "id": "31b4734d",
   "metadata": {},
   "source": [
    "With this, you can for example install missing modules with pip:\n",
    "\n",
    "(This one installs the jupyter nb extensions)"
   ]
  },
  {
   "cell_type": "code",
   "execution_count": 2,
   "id": "6ed2a53e",
   "metadata": {
    "scrolled": true
   },
   "outputs": [],
   "source": [
    "#!pip install jupyter_contrib_nbextensions"
   ]
  },
  {
   "cell_type": "markdown",
   "id": "d9efb284",
   "metadata": {},
   "source": [
    "You can even use **Interactive Widgets**:"
   ]
  },
  {
   "cell_type": "code",
   "execution_count": 3,
   "id": "4519fcab",
   "metadata": {
    "scrolled": true
   },
   "outputs": [
    {
     "data": {
      "application/vnd.jupyter.widget-view+json": {
       "model_id": "6408eda27cde4453840689033f5693f7",
       "version_major": 2,
       "version_minor": 0
      },
      "text/plain": [
       "IntSlider(value=5, max=10)"
      ]
     },
     "metadata": {},
     "output_type": "display_data"
    }
   ],
   "source": [
    "import ipywidgets as widgets\n",
    "from IPython.display import display\n",
    "\n",
    "slider = widgets.IntSlider(min=0, max=10, step=1, value=5)\n",
    "display(slider)\n"
   ]
  },
  {
   "cell_type": "code",
   "execution_count": 4,
   "id": "f7d838e2",
   "metadata": {},
   "outputs": [
    {
     "name": "stdout",
     "output_type": "stream",
     "text": [
      "With %%time, you can get run time statistics\n",
      "With %%timeit, you can automatically run multiple times to get a more reliable result (see below).\n",
      "CPU times: user 135 µs, sys: 0 ns, total: 135 µs\n",
      "Wall time: 148 µs\n"
     ]
    }
   ],
   "source": [
    "%%time\n",
    "print('With %%time, you can get run time statistics')\n",
    "sum(range(1000))\n",
    "print('With %%timeit, you can automatically run multiple times to get a more reliable result (see below).')"
   ]
  },
  {
   "cell_type": "code",
   "execution_count": 5,
   "id": "b81d2674",
   "metadata": {},
   "outputs": [
    {
     "name": "stdout",
     "output_type": "stream",
     "text": [
      "CPU times: user 18 µs, sys: 5 µs, total: 23 µs\n",
      "Wall time: 25.7 µs\n"
     ]
    },
    {
     "data": {
      "text/plain": [
       "499500"
      ]
     },
     "execution_count": 5,
     "metadata": {},
     "output_type": "execute_result"
    }
   ],
   "source": [
    "%%time\n",
    "sum(range(1000))"
   ]
  },
  {
   "cell_type": "code",
   "execution_count": 6,
   "id": "428d528a",
   "metadata": {
    "scrolled": true
   },
   "outputs": [
    {
     "name": "stdout",
     "output_type": "stream",
     "text": [
      "19 µs ± 278 ns per loop (mean ± std. dev. of 7 runs, 100000 loops each)\n"
     ]
    }
   ],
   "source": [
    "%%timeit\n",
    "sum(range(1000))"
   ]
  },
  {
   "cell_type": "markdown",
   "id": "452461ae",
   "metadata": {},
   "source": [
    "------------------"
   ]
  },
  {
   "cell_type": "markdown",
   "id": "afc6ed15",
   "metadata": {},
   "source": [
    "# Part I: The Python Syntax\n",
    "Below, a short example is provided that includes most of the most common python syntax."
   ]
  },
  {
   "cell_type": "code",
   "execution_count": 7,
   "id": "d87f4222",
   "metadata": {},
   "outputs": [
    {
     "name": "stdout",
     "output_type": "stream",
     "text": [
      "Alice is 30\n",
      "Bob is 25\n",
      "impossible\n",
      "Oops: division by zero\n",
      "1 2 3 4 \n",
      "count: 0\n",
      "count: 1\n",
      "count: 2\n",
      "Hello, Alice!\n",
      "HELLO, BOB!\n"
     ]
    },
    {
     "name": "stdin",
     "output_type": "stream",
     "text": [
      "Enter your name and age (separated by a space):  Robin 33\n"
     ]
    },
    {
     "name": "stdout",
     "output_type": "stream",
     "text": [
      "Robin, 33 years old\n",
      "Happy birthday, Robin!\n",
      "Robin, 34 years old\n"
     ]
    }
   ],
   "source": [
    "# --- Import Modules ---\n",
    "import math\n",
    "\n",
    "# --- Variables ---\n",
    "x = 42                  # int\n",
    "y = math.sqrt(math.pi)  # float\n",
    "name = \"Alice\"          # str\n",
    "is_active = True        # bool\n",
    "nothing = None          # Nonetype\n",
    "\n",
    "# --- Mutable vs immutable ---\n",
    "nums = [1, 2, 3]        # list (mutable)\n",
    "text = \"hello\"          # string (immutable)\n",
    "nums.append(4)\n",
    "# text[0] = 'H'         # would fail: strings are immutable!\n",
    "\n",
    "# --- Dictionaries ---\n",
    "ages = {\"Alice\": 30, \"Bob\": 25}\n",
    "for key, value in ages.items():\n",
    "    print(f\"{key} is {value}\")\n",
    "\n",
    "# --- Control flow ---\n",
    "if x < y:\n",
    "    print(\"pi is large enough\")\n",
    "elif y == 42:\n",
    "    print(\"pi is exactly 3?\")\n",
    "else:\n",
    "    print(\"impossible\")\n",
    "\n",
    "# --- Exception handling ---\n",
    "try:\n",
    "    result = 10 / 0\n",
    "except ZeroDivisionError as e:\n",
    "    print(\"Oops:\", e)\n",
    "    \n",
    "# --- Loops ---\n",
    "for n in nums:\n",
    "    print(n, end=\" \")\n",
    "print()\n",
    "\n",
    "count = 0\n",
    "while count < 3:\n",
    "    print(\"count:\", count)\n",
    "    count += 1\n",
    "\n",
    "# --- Functions ---\n",
    "def greet(person, loud=False):\n",
    "    \"\"\"Say hello to a person.\"\"\"\n",
    "    msg = f\"Hello, {person}!\"\n",
    "    return msg.upper() if loud else msg\n",
    "\n",
    "print(greet(name))\n",
    "print(greet(\"Bob\", loud=True))\n",
    "\n",
    "\n",
    "# --- Classes and objects ---\n",
    "class Person:\n",
    "    def __init__(self, name, age):\n",
    "        self.name = name\n",
    "        self.age = age\n",
    "\n",
    "    def birthday(self):\n",
    "        print(f'Happy birthday, {self.name}!')  # f-strings allow the direct input of variables\n",
    "        self.age += 1\n",
    "\n",
    "    def __str__(self):\n",
    "        return f\"{self.name}, {self.age} years old\"\n",
    "\n",
    "# --- Read user input ---\n",
    "name, age = input('Enter your name and age (separated by a space): ').split()  # Split is a built-in function of \"string\" which creates a list of the two inputs, which are then unpacked two to variables\n",
    "age = int(age)  # Convert the age from string to integer\n",
    "\n",
    "p = Person(name, age)  # On object construction, the __init__ is called\n",
    "print(p)  # print calls the string representations __str__ of our object p\n",
    "p.birthday()  # Call the \"birthday\" member function\n",
    "print(p)"
   ]
  },
  {
   "cell_type": "markdown",
   "id": "29df8eee",
   "metadata": {},
   "source": [
    "## A very special example"
   ]
  },
  {
   "cell_type": "code",
   "execution_count": 8,
   "id": "31d93ed9",
   "metadata": {
    "scrolled": true
   },
   "outputs": [
    {
     "name": "stdout",
     "output_type": "stream",
     "text": [
      "There seems to be something wrong?!\n"
     ]
    }
   ],
   "source": [
    "a = 0.1 + 0.2\n",
    "if a == 0.3:\n",
    "    print('Can you explain, why this is not printed?')\n",
    "else:\n",
    "    print('There seems to be something wrong?!')"
   ]
  },
  {
   "cell_type": "code",
   "execution_count": 9,
   "id": "5e0816f4",
   "metadata": {},
   "outputs": [
    {
     "name": "stdout",
     "output_type": "stream",
     "text": [
      "The result isn't exactly 0.3 because of precision limitations in binary floating-point representation.\n",
      " Internally, 0.1 and 0.2 can't be represented exactly as binary fractions, so their sum ends up being a number very close to 0.3, but not exactly 0.3.\n",
      " As a result, the condition a == 0.3 evaluates to False, triggering the else statement. => In general applies: avoid comparisons with floats!\n"
     ]
    }
   ],
   "source": [
    "from solutions import solution0\n",
    "print(solution0)"
   ]
  },
  {
   "cell_type": "code",
   "execution_count": 10,
   "id": "47bd84c3",
   "metadata": {
    "scrolled": true
   },
   "outputs": [
    {
     "name": "stdout",
     "output_type": "stream",
     "text": [
      "This works now!\n"
     ]
    }
   ],
   "source": [
    "# A common workaround\n",
    "a = 0.1 + 0.2\n",
    "if abs(a - 0.3) < 1e-9:\n",
    "    print('This works now!')\n",
    "else:\n",
    "    print('Something still seems off.')"
   ]
  },
  {
   "cell_type": "markdown",
   "id": "e2ea4163-3593-47ce-8ff0-5f6fe98be04a",
   "metadata": {},
   "source": [
    "# Part II: The Zen of Python"
   ]
  },
  {
   "cell_type": "markdown",
   "id": "68cffedd-2807-4db4-95c3-cf40c33aa125",
   "metadata": {},
   "source": [
    "The Zen of Python is summing up the principles of Python programming.\n",
    "It is part of the language and can be accessed with:"
   ]
  },
  {
   "cell_type": "code",
   "execution_count": 11,
   "id": "53565401-3ae6-4890-9333-4762c196af6d",
   "metadata": {
    "scrolled": true
   },
   "outputs": [
    {
     "name": "stdout",
     "output_type": "stream",
     "text": [
      "The Zen of Python, by Tim Peters\n",
      "\n",
      "Beautiful is better than ugly.\n",
      "Explicit is better than implicit.\n",
      "Simple is better than complex.\n",
      "Complex is better than complicated.\n",
      "Flat is better than nested.\n",
      "Sparse is better than dense.\n",
      "Readability counts.\n",
      "Special cases aren't special enough to break the rules.\n",
      "Although practicality beats purity.\n",
      "Errors should never pass silently.\n",
      "Unless explicitly silenced.\n",
      "In the face of ambiguity, refuse the temptation to guess.\n",
      "There should be one-- and preferably only one --obvious way to do it.\n",
      "Although that way may not be obvious at first unless you're Dutch.\n",
      "Now is better than never.\n",
      "Although never is often better than *right* now.\n",
      "If the implementation is hard to explain, it's a bad idea.\n",
      "If the implementation is easy to explain, it may be a good idea.\n",
      "Namespaces are one honking great idea -- let's do more of those!\n"
     ]
    }
   ],
   "source": [
    "import this"
   ]
  },
  {
   "cell_type": "markdown",
   "id": "ea918b91-79fb-42ac-8d7e-68c3046dfd95",
   "metadata": {},
   "source": [
    "### Python is Full of Easter-Eggs"
   ]
  },
  {
   "cell_type": "code",
   "execution_count": 12,
   "id": "a71aeb5b-8b84-49e2-9f9e-2ca0eaf16f9c",
   "metadata": {},
   "outputs": [
    {
     "ename": "SyntaxError",
     "evalue": "not a chance (3905450354.py, line 1)",
     "output_type": "error",
     "traceback": [
      "\u001b[0;36m  File \u001b[0;32m\"/tmp/ipykernel_5530/3905450354.py\"\u001b[0;36m, line \u001b[0;32m1\u001b[0m\n\u001b[0;31m    from __future__ import braces\u001b[0m\n\u001b[0m    ^\u001b[0m\n\u001b[0;31mSyntaxError\u001b[0m\u001b[0;31m:\u001b[0m not a chance\n"
     ]
    }
   ],
   "source": [
    "from __future__ import braces"
   ]
  },
  {
   "cell_type": "markdown",
   "id": "382c9e4f-2dea-42a7-b93f-37ed0ae32916",
   "metadata": {},
   "source": [
    "## Implicit vs Explicit \n",
    "When writing Python code, implicit concepts like chanining and list comprehensions can be very helpful and reduce repetitions.\n",
    "However, readibility suffers a lot, why it is **not** recommended for beginners."
   ]
  },
  {
   "cell_type": "code",
   "execution_count": null,
   "id": "cdbd8ff1",
   "metadata": {},
   "outputs": [],
   "source": [
    "def process(value):\n",
    "    print(f\"Processing {value}\")\n",
    "    return value.upper()\n",
    "\n",
    "ready = True\n",
    "data = \"apple\"\n",
    "default = \"banana\"\n",
    "\n",
    "# --- Implicit and complex ---\n",
    "result = process(data or default) if ready else None\n",
    "print(\"Implicit: \", result)\n",
    "\n",
    "# --- Explicit and simple ---\n",
    "if ready:\n",
    "    if data:\n",
    "        result = process(data)\n",
    "    else:\n",
    "        result = process(default)\n",
    "else:\n",
    "    result = None\n",
    "print(\"Explicit: \", result)"
   ]
  },
  {
   "cell_type": "markdown",
   "id": "0546a66c-88b7-4b5b-884f-c4fb86cf30a4",
   "metadata": {},
   "source": [
    "**Question:** Why is the following implementation faster?"
   ]
  },
  {
   "cell_type": "markdown",
   "id": "a13263f4",
   "metadata": {},
   "source": [
    "---------------------"
   ]
  },
  {
   "cell_type": "markdown",
   "id": "5c7f694d",
   "metadata": {},
   "source": [
    "# Where Python Shines\n",
    "One of the biggest advantages is Python's simplicity and usability.\n",
    "Coding in Python is very convenient and rather easy.\n",
    "And thanks to many available packages, Python can easily be used for many different purposes."
   ]
  },
  {
   "cell_type": "markdown",
   "id": "19704570-f7e7-4c02-a0d2-4cc0b8473804",
   "metadata": {},
   "source": [
    "### Packages"
   ]
  },
  {
   "cell_type": "markdown",
   "id": "d4ee0751-5c7a-4077-8b93-4695e64f30b8",
   "metadata": {},
   "source": [
    "#### Statistics with NumPy"
   ]
  },
  {
   "cell_type": "code",
   "execution_count": null,
   "id": "e7679984-e720-4a1c-8522-f1d5cf97c213",
   "metadata": {},
   "outputs": [],
   "source": [
    "# Simple statistical analysis with NumPy\n",
    "\n",
    "import numpy as np\n",
    "\n",
    "# Generate random data (e.g. 10000 samples from a normal distribution)\n",
    "data = np.random.randn(10000)\n",
    "\n",
    "# Compute basic statistics\n",
    "mean = np.mean(data)\n",
    "median = np.median(data)\n",
    "variance = np.var(data)\n",
    "std_dev = np.std(data)\n",
    "min_val = np.min(data)\n",
    "max_val = np.max(data)\n",
    "\n",
    "# Print results\n",
    "print(f\"Mean:      {mean:.3f}\")\n",
    "print(f\"Median:    {median:.3f}\")\n",
    "print(f\"Variance:  {variance:.3f}\")\n",
    "print(f\"Std dev:   {std_dev:.3f}\")\n",
    "print(f\"Min:       {min_val:.3f}\")\n",
    "print(f\"Max:       {max_val:.3f}\")"
   ]
  },
  {
   "cell_type": "markdown",
   "id": "3b4faec2-7a46-499d-87c1-1e520b9b6c47",
   "metadata": {},
   "source": [
    "#### scikit-learn (Fast)\n",
    "This code loads the scikit-learn digits dataset (a smaller, built-in version of MNIST with 8×8 grayscale images of handwritten digits).\n",
    "It trains a multi-layer perceptron with one hidden layer of 50 neurons to classify digits 0–9.\n",
    "\n",
    "After training, it reports the accuracy and shows a few example predictions — true vs. predicted labels — illustrating how neural networks can learn visual patterns directly from pixel intensities."
   ]
  },
  {
   "cell_type": "code",
   "execution_count": null,
   "id": "c5119261-2049-464f-86c7-a4debc2928e5",
   "metadata": {},
   "outputs": [],
   "source": [
    "from sklearn.datasets import load_digits\n",
    "from sklearn.model_selection import train_test_split\n",
    "from sklearn.neural_network import MLPClassifier\n",
    "from sklearn.metrics import classification_report, confusion_matrix\n",
    "import matplotlib.pyplot as plt\n",
    "\n",
    "# --- Load dataset ---\n",
    "digits = load_digits()\n",
    "X = digits.data        # each sample: 8x8 image flattened to 64 features\n",
    "y = digits.target\n",
    "\n",
    "# --- Train/test split ---\n",
    "X_train, X_test, y_train, y_test = train_test_split(X, y, test_size=0.3, random_state=0)\n",
    "\n",
    "# --- Define and train MLP ---\n",
    "mlp = MLPClassifier(hidden_layer_sizes=(50,), activation='relu', max_iter=500, random_state=0)\n",
    "mlp.fit(X_train, y_train)\n",
    "\n",
    "# --- Evaluate ---\n",
    "print(\"Accuracy:\", mlp.score(X_test, y_test))\n",
    "print(\"\\nClassification report:\\n\", classification_report(y_test, mlp.predict(X_test)))\n",
    "\n",
    "# --- Visualize some predictions ---\n",
    "fig, axes = plt.subplots(2, 5, figsize=(8, 3))\n",
    "for ax, image, label, pred in zip(axes.ravel(), X_test, y_test, mlp.predict(X_test)):\n",
    "    ax.imshow(image.reshape(8, 8), cmap='gray')\n",
    "    ax.set_title(f\"T:{label} / P:{pred}\")\n",
    "    ax.axis('off')\n",
    "plt.suptitle(\"MLP on Handwritten Digits\")\n",
    "plt.tight_layout()\n",
    "plt.show()\n"
   ]
  },
  {
   "cell_type": "markdown",
   "id": "19e603e2-56d3-4198-bcd2-59528d012d5a",
   "metadata": {},
   "source": [
    "#### scikit-learn (Full Dataset)\n",
    "This example uses the real MNIST dataset of 70,000 handwritten digits (0–9).\n",
    "Each 28×28 image is flattened into a 784-dimensional vector and normalized for training.\n",
    "\n",
    "A simple MLP with one hidden layer of 100 neurons learns to recognize digits via backpropagation with ReLu as activation function.\n",
    "After training for a few iterations, it can already reach ~97–98% accuracy, and the plotted examples show how the network correctly identifies most digits."
   ]
  },
  {
   "cell_type": "code",
   "execution_count": null,
   "id": "262f96c4-2713-4c3b-8668-6668dd8b6e76",
   "metadata": {},
   "outputs": [],
   "source": [
    "import numpy as np\n",
    "from tensorflow.keras.datasets import mnist\n",
    "from sklearn.neural_network import MLPClassifier\n",
    "from sklearn.metrics import accuracy_score\n",
    "import matplotlib.pyplot as plt\n",
    "\n",
    "# --- Load and preprocess data ---\n",
    "(X_train, y_train), (X_test, y_test) = mnist.load_data()\n",
    "X_train = X_train.reshape(len(X_train), -1) / 255.0  # flatten and normalize\n",
    "X_test  = X_test.reshape(len(X_test), -1) / 255.0\n",
    "\n",
    "# --- Define and train MLP ---\n",
    "mlp = MLPClassifier(hidden_layer_sizes=(100,), activation='relu', max_iter=10, random_state=0, verbose=True)\n",
    "mlp.fit(X_train, y_train)\n",
    "\n",
    "# --- Evaluate ---\n",
    "y_pred = mlp.predict(X_test)\n",
    "print(\"Accuracy:\", accuracy_score(y_test, y_pred))\n",
    "\n",
    "# --- Visualize a few predictions ---\n",
    "fig, axes = plt.subplots(2, 5, figsize=(8, 3))\n",
    "for ax, img, true, pred in zip(axes.ravel(), X_test[:10], y_test[:10], y_pred[:10]):\n",
    "    ax.imshow(img.reshape(28, 28), cmap=\"gray\")\n",
    "    ax.set_title(f\"T:{true} / P:{pred}\")\n",
    "    ax.axis(\"off\")\n",
    "plt.suptitle(\"MLP on MNIST Handwritten Digits\")\n",
    "plt.tight_layout()\n",
    "plt.show()\n"
   ]
  },
  {
   "cell_type": "markdown",
   "id": "65f6a5fe-6e7b-49f7-aa8e-df9a8d2e4ae3",
   "metadata": {},
   "source": [
    " "
   ]
  },
  {
   "cell_type": "markdown",
   "id": "989b58a4-c062-4510-82eb-d47bff1da0c1",
   "metadata": {},
   "source": [
    "#### Pandas\n",
    "This example simulates a detector calibration study, a common task in experimental particle physics.\n",
    "We generate a series of “true” particle energies and simulate what a detector might measure.\n",
    "\n",
    "The real-world measurement is slightly biased and noisy due to imperfect calibration and random fluctuations.\n",
    "By storing the data in a pandas DataFrame, we can quickly compute key statistics and the correlation between true and measured energy with essentially 2 lines of code.\n",
    "\n",
    "The resulting scatter plot, together with the ideal calibration line, clearly shows the detector’s linear response and small deviations."
   ]
  },
  {
   "cell_type": "code",
   "execution_count": null,
   "id": "9a68276a-3c65-4d66-adb4-54303032fe88",
   "metadata": {},
   "outputs": [],
   "source": [
    "# Physics-motivated pandas example: detector calibration curve\n",
    "\n",
    "import pandas as pd\n",
    "import numpy as np\n",
    "import matplotlib.pyplot as plt\n",
    "\n",
    "# --- Simulate detector data ---\n",
    "np.random.seed(0)\n",
    "N = 500\n",
    "true_E = np.linspace(10, 200, N)  # true particle energy [GeV]\n",
    "meas_E = 0.95 * true_E + np.random.normal(0, 5, N)  # measured energy with bias + noise\n",
    "\n",
    "# --- Store in DataFrame ---\n",
    "df = pd.DataFrame({\"true_E\": true_E, \"meas_E\": meas_E})\n",
    "df[\"residual\"] = df[\"meas_E\"] - df[\"true_E\"]\n",
    "\n",
    "# --- Compute summary statistics ---\n",
    "print(df.describe())\n",
    "\n",
    "# --- Compute correlation ---\n",
    "corr = df[\"true_E\"].corr(df[\"meas_E\"])\n",
    "print(f\"\\nCorrelation coefficient: {corr:.3f}\")\n",
    "\n",
    "# --- Plot calibration curve ---\n",
    "plt.figure(figsize=(7,5))\n",
    "plt.scatter(df[\"true_E\"], df[\"meas_E\"], alpha=0.6, s=15, label=\"Measurements\")\n",
    "plt.plot(df[\"true_E\"], 0.95 * df[\"true_E\"], color=\"red\", lw=2, label=\"Ideal calibration\")\n",
    "plt.xlabel(\"True energy [GeV]\")\n",
    "plt.ylabel(\"Measured energy [GeV]\")\n",
    "plt.title(\"Simulated Detector Calibration\")\n",
    "plt.legend()\n",
    "plt.grid(True)\n",
    "plt.tight_layout()\n",
    "plt.show()\n"
   ]
  },
  {
   "cell_type": "markdown",
   "id": "2177ee79-6203-4eea-8ac5-6eea8ccd32ff",
   "metadata": {},
   "source": [
    "### Plotting\n",
    "One of Python's greates strenghts!\n",
    "The first example simulates a detector-like measurement common in experimental physics.\n",
    "It randomly generates 5,000 “hits” in pseudorapidity (η) and azimuthal angle (φ).\n",
    "\n",
    "A 2D histogram is created to represent hit density across this η–φ plane, and visualized as a heatmap using Matplotlib.\n",
    "Contours and annotations highlight regions of higher activity (“hot spots”)."
   ]
  },
  {
   "cell_type": "code",
   "execution_count": null,
   "id": "b821fc3e",
   "metadata": {},
   "outputs": [],
   "source": [
    "import numpy as np\n",
    "import matplotlib.pyplot as plt\n",
    "\n",
    "# --- Simulated detector hits in eta-phi space ---\n",
    "np.random.seed(0)\n",
    "eta = np.random.normal(0, 1.0, 5000)     # pseudorapidity\n",
    "phi = np.random.uniform(-np.pi, np.pi, 5000)  # azimuthal angle\n",
    "\n",
    "# --- Build 2D histogram (detector occupancy) ---\n",
    "bins = [50, 50]\n",
    "H, eta_edges, phi_edges = np.histogram2d(eta, phi, bins=bins)\n",
    "\n",
    "# --- Plot heatmap ---\n",
    "plt.figure(figsize=(8, 6))\n",
    "im = plt.imshow(\n",
    "    H.T, origin='lower',\n",
    "    extent=[eta_edges[0], eta_edges[-1], phi_edges[0], phi_edges[-1]],\n",
    "    aspect='auto', cmap='plasma'\n",
    ")\n",
    "\n",
    "# --- Add contours, colorbar, labels ---\n",
    "contours = plt.contour(\n",
    "    H.T, levels=5, colors='white', linewidths=0.8,\n",
    "    extent=[eta_edges[0], eta_edges[-1], phi_edges[0], phi_edges[-1]]\n",
    ")\n",
    "plt.clabel(contours, inline=True, fontsize=8, fmt=\"%.0f\")\n",
    "\n",
    "plt.colorbar(im, label='Hit density')\n",
    "plt.xlabel('η (pseudorapidity)')\n",
    "plt.ylabel('φ (azimuthal angle)')\n",
    "plt.title('Simulated Detector Occupancy')\n",
    "\n",
    "plt.show()"
   ]
  },
  {
   "cell_type": "markdown",
   "id": "3925d7ee-b1e5-43bc-ad39-0acde38cd602",
   "metadata": {},
   "source": [
    "The second example plots a 3D Gaussian potential field with a contur projection and a color coding of the field strength."
   ]
  },
  {
   "cell_type": "code",
   "execution_count": null,
   "id": "6dfe3d5e-d774-40c8-ae3d-30eb5f27aaa1",
   "metadata": {},
   "outputs": [],
   "source": [
    "import numpy as np\n",
    "import matplotlib.pyplot as plt\n",
    "from mpl_toolkits.mplot3d import Axes3D  # needed for 3D projection\n",
    "\n",
    "# --- Simulate a 2D Gaussian potential field ---\n",
    "x = np.linspace(-3, 3, 100)\n",
    "y = np.linspace(-3, 3, 100)\n",
    "X, Y = np.meshgrid(x, y)\n",
    "Z = np.exp(-(X**2 + Y**2)) + 0.5 * np.exp(-((X - 1.5)**2 + (Y + 1)**2))\n",
    "\n",
    "# --- Create 3D surface plot ---\n",
    "fig = plt.figure(figsize=(8, 6))\n",
    "ax = fig.add_subplot(111, projection='3d')\n",
    "\n",
    "surf = ax.plot_surface(X, Y, Z, cmap='viridis', edgecolor='none', alpha=0.9)\n",
    "ax.contour(X, Y, Z, zdir='z', offset=-0.2, cmap='viridis')  # contour projection\n",
    "\n",
    "ax.set_xlabel('x')\n",
    "ax.set_ylabel('y')\n",
    "ax.set_zlabel('Potential')\n",
    "ax.set_title('Simulated Potential Field')\n",
    "\n",
    "fig.colorbar(surf, shrink=0.6, label='Field strength')\n",
    "\n",
    "plt.show()"
   ]
  }
 ],
 "metadata": {
  "@webio": {
   "lastCommId": null,
   "lastKernelId": null
  },
  "kernelspec": {
   "display_name": "Python 3",
   "language": "python",
   "name": "python3"
  },
  "language_info": {
   "codemirror_mode": {
    "name": "ipython",
    "version": 3
   },
   "file_extension": ".py",
   "mimetype": "text/x-python",
   "name": "python",
   "nbconvert_exporter": "python",
   "pygments_lexer": "ipython3",
   "version": "3.11.9"
  }
 },
 "nbformat": 4,
 "nbformat_minor": 5
}
