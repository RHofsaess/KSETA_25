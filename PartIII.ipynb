{
 "cells": [
  {
   "cell_type": "markdown",
   "id": "afc6ed15",
   "metadata": {},
   "source": [
    "# Part III: Language Concepts\n",
    "The Python language is super beginner-friendly and easy to handle. But let's also have a look behind!"
   ]
  },
  {
   "cell_type": "code",
   "execution_count": 24,
   "id": "31d93ed9",
   "metadata": {
    "scrolled": true
   },
   "outputs": [
    {
     "name": "stdout",
     "output_type": "stream",
     "text": [
      "There seems to be something wrong?!\n"
     ]
    }
   ],
   "source": [
    "a = 0.1 + 0.2\n",
    "if a == 0.3:\n",
    "    print('Can you explain, why this is not printed?')\n",
    "else:\n",
    "    print('There seems to be something wrong?!')"
   ]
  },
  {
   "cell_type": "code",
   "execution_count": 1,
   "id": "5e0816f4",
   "metadata": {},
   "outputs": [
    {
     "name": "stdout",
     "output_type": "stream",
     "text": [
      "The result isn't exactly 0.3 because of precision limitations in binary floating-point representation.\n",
      " Internally, 0.1 and 0.2 can't be represented exactly as binary fractions, so their sum ends up being a number very close to 0.3, but not exactly 0.3.\n",
      " As a result, the condition a == 0.3 evaluates to False, triggering the else statement. => In general applies: avoid comparisons with floats!\n"
     ]
    }
   ],
   "source": [
    "from solutions import solution0\n",
    "print(solution0)"
   ]
  },
  {
   "cell_type": "code",
   "execution_count": 26,
   "id": "47bd84c3",
   "metadata": {
    "scrolled": true
   },
   "outputs": [
    {
     "name": "stdout",
     "output_type": "stream",
     "text": [
      "This works now!\n"
     ]
    }
   ],
   "source": [
    "# A common workaround\n",
    "a = 0.1 + 0.2\n",
    "if abs(a - 0.3) < 1e-9:\n",
    "    print('This works now!')\n",
    "else:\n",
    "    print('Something still seems off.')"
   ]
  },
  {
   "cell_type": "markdown",
   "id": "084e8969-91e5-4da5-a55c-73b6f486ee09",
   "metadata": {},
   "source": [
    "## Objects\n",
    "In Python, EVERYTHING is an object!\n",
    "The type of anything can be found with **type()**."
   ]
  },
  {
   "cell_type": "code",
   "execution_count": 32,
   "id": "418cc05b-ff6b-4a49-b448-c8550210e999",
   "metadata": {},
   "outputs": [
    {
     "data": {
      "text/plain": [
       "int"
      ]
     },
     "execution_count": 32,
     "metadata": {},
     "output_type": "execute_result"
    }
   ],
   "source": [
    "x = 1\n",
    "type(x)  # Note: this is the interactive derivation in IPython"
   ]
  },
  {
   "cell_type": "code",
   "execution_count": 33,
   "id": "d8b12309-8f4e-4f00-9945-8c2bf7f2c2d3",
   "metadata": {},
   "outputs": [
    {
     "name": "stdout",
     "output_type": "stream",
     "text": [
      "<class 'int'>\n"
     ]
    }
   ],
   "source": [
    "y = 2\n",
    "print(type(y))  # This provides the class"
   ]
  },
  {
   "cell_type": "markdown",
   "id": "505d0ded-3eef-47fe-8a45-4874bfa65de9",
   "metadata": {},
   "source": [
    "**Q: What does this mean in case of a simple int?**"
   ]
  },
  {
   "cell_type": "markdown",
   "id": "c8e645cd-1fc8-4d0f-add6-688f99cf0ed4",
   "metadata": {},
   "source": [
    "Your answer:"
   ]
  },
  {
   "cell_type": "code",
   "execution_count": 2,
   "id": "332901c0-6b32-4a9c-a24e-d3eaa3d29886",
   "metadata": {},
   "outputs": [
    {
     "name": "stdout",
     "output_type": "stream",
     "text": [
      "Even for a simple int, all handling is managed with member functions! This reflects the overall abstraction of Python (e.g. compared to C). We only deal with abstracted objects, while the the technical backend is fully handled by the interpreter.\n"
     ]
    }
   ],
   "source": [
    "from solutions import solution_int\n",
    "print(solution_int)"
   ]
  },
  {
   "cell_type": "markdown",
   "id": "905c99e8-c54f-4a9d-b4ea-0ecb9f702b87",
   "metadata": {},
   "source": [
    "_____________________________"
   ]
  },
  {
   "cell_type": "markdown",
   "id": "f6a1fb2e-aa2a-4dcb-ad01-12e60da3cf8b",
   "metadata": {},
   "source": [
    "### Task 1\n",
    "Most of the information on objects/their members you can get with:\n",
    "- print(object): Prints the content of an object\n",
    "- dir(object): Listing the members\n",
    "- help(object): Print the full documentation\n",
    "- object.__doc__: print the docstring\n",
    "- (inspect)"
   ]
  },
  {
   "cell_type": "markdown",
   "id": "0913f1fe-6a64-4573-a8fa-e7c312e8dc91",
   "metadata": {},
   "source": [
    "**Question 1**:Try it out yourself and find the number of members of **int**. (PS: Do not count them by yourself, but use Python instead!)"
   ]
  },
  {
   "cell_type": "code",
   "execution_count": 1,
   "id": "4df4441b-87ff-4275-8b0d-c69700c04886",
   "metadata": {},
   "outputs": [
    {
     "name": "stdout",
     "output_type": "stream",
     "text": [
      "Use dir(int) to get the members. BUT: do not count them! You will get a list from dir(int). Check, if lists may have a handy member that gives you the length.\n"
     ]
    }
   ],
   "source": [
    "from tips import tip0\n",
    "print(tip0)"
   ]
  },
  {
   "cell_type": "markdown",
   "id": "6690d654-4029-4d77-a4ee-d6754f31a090",
   "metadata": {},
   "source": [
    "Your answer:"
   ]
  },
  {
   "cell_type": "code",
   "execution_count": 2,
   "id": "25c5ef5c-4866-4eff-aa30-6a19e0745981",
   "metadata": {},
   "outputs": [
    {
     "name": "stdout",
     "output_type": "stream",
     "text": [
      "len(dir(int)): 73\n"
     ]
    }
   ],
   "source": [
    "from solutions import solution1\n",
    "print(solution1)"
   ]
  },
  {
   "cell_type": "markdown",
   "id": "1090791c-f0bc-4212-bbf3-95d41d8530bb",
   "metadata": {},
   "source": [
    "Again, in python, **everything** is an *object*.\n",
    "Even classes are objects!\n",
    "See the following example:\n",
    "\n",
    "**NOTE: To be a little bit more precise: Classes are objects in python, but \"class\" itself is not. It is a language keyword, such as def, if, or for. type(class) will therefore fail!**"
   ]
  },
  {
   "cell_type": "code",
   "execution_count": 76,
   "id": "f911d9cf-018f-49d3-8749-143a0c7db093",
   "metadata": {},
   "outputs": [
    {
     "name": "stdout",
     "output_type": "stream",
     "text": [
      "Tuuuut!\n"
     ]
    }
   ],
   "source": [
    "# Example class\n",
    "class Car:  # Object\n",
    "    wheels = 4  # Object\n",
    "    def honk(self):  # Member function of Car -- Guess what, it is an object!\n",
    "        print(\"Tuuuut!\")  # Object\n",
    "        \n",
    "# Just as every object, you can assign it to a variable, pass it around, or modify it\n",
    "Vehicle = Car  # Object\n",
    "my_car = Vehicle()  # Constructor (an object!)\n",
    "my_car.honk()  # Memberfunction call (an object)"
   ]
  },
  {
   "cell_type": "markdown",
   "id": "2560c374-73b0-4fd4-8ed8-05b1faf9c10b",
   "metadata": {},
   "source": [
    "**If you want to practive a little bit more**: Find out what the types of each object in the example are:\n",
    "\n",
    "Car:\n",
    "\n",
    "wheels:\n",
    "\n",
    "Car.honk:\n",
    "\n",
    "print:\n",
    "\n",
    "Vehicle:\n",
    "\n",
    "Vehicle():\n",
    "\n",
    "my_car:\n",
    "\n",
    "my_car.honk:"
   ]
  },
  {
   "cell_type": "markdown",
   "id": "15a9135e-0f65-4ba0-8748-071e6414323e",
   "metadata": {},
   "source": [
    "_________________________"
   ]
  },
  {
   "cell_type": "markdown",
   "id": "c6791526-d1a1-426c-bbea-3f557adb2d89",
   "metadata": {},
   "source": [
    "#### Builtins"
   ]
  },
  {
   "cell_type": "markdown",
   "id": "2a30ed6a-0eeb-41ae-a5a7-8e491fa96424",
   "metadata": {},
   "source": [
    "Builtins are the default object classes.\n",
    "To list all included builtin object types in python, you can run the following code:\n",
    "\n",
    "**NOTE: Keywords (class, def, if, else) are not listed here, as they are a little bit more special**"
   ]
  },
  {
   "cell_type": "code",
   "execution_count": 3,
   "id": "a4498a48-9e83-4bf3-8cc3-875f5a3a89c1",
   "metadata": {},
   "outputs": [
    {
     "name": "stdout",
     "output_type": "stream",
     "text": [
      "['ArithmeticError', 'AssertionError', 'AttributeError', 'BaseException', 'BaseExceptionGroup', 'BlockingIOError', 'BrokenPipeError', 'BufferError', 'BytesWarning', 'ChildProcessError', 'ConnectionAbortedError', 'ConnectionError', 'ConnectionRefusedError', 'ConnectionResetError', 'DeprecationWarning', 'EOFError', 'EncodingWarning', 'EnvironmentError', 'Exception', 'ExceptionGroup', 'FileExistsError', 'FileNotFoundError', 'FloatingPointError', 'FutureWarning', 'GeneratorExit', 'IOError', 'ImportError', 'ImportWarning', 'IndentationError', 'IndexError', 'InterruptedError', 'IsADirectoryError', 'KeyError', 'KeyboardInterrupt', 'LookupError', 'MemoryError', 'ModuleNotFoundError', 'NameError', 'NotADirectoryError', 'NotImplementedError', 'OSError', 'OverflowError', 'PendingDeprecationWarning', 'PermissionError', 'ProcessLookupError', 'RecursionError', 'ReferenceError', 'ResourceWarning', 'RuntimeError', 'RuntimeWarning', 'StopAsyncIteration', 'StopIteration', 'SyntaxError', 'SyntaxWarning', 'SystemError', 'SystemExit', 'TabError', 'TimeoutError', 'TypeError', 'UnboundLocalError', 'UnicodeDecodeError', 'UnicodeEncodeError', 'UnicodeError', 'UnicodeTranslateError', 'UnicodeWarning', 'UserWarning', 'ValueError', 'Warning', 'ZeroDivisionError', '__loader__', 'bool', 'bytearray', 'bytes', 'classmethod', 'complex', 'dict', 'enumerate', 'filter', 'float', 'frozenset', 'int', 'list', 'map', 'memoryview', 'object', 'property', 'range', 'reversed', 'set', 'slice', 'staticmethod', 'str', 'super', 'tuple', 'type', 'zip']\n"
     ]
    }
   ],
   "source": [
    "import builtins\n",
    "\n",
    "types = [name for name in dir(builtins)\n",
    "         if isinstance(getattr(builtins, name), type)]\n",
    "print(types)"
   ]
  },
  {
   "cell_type": "markdown",
   "id": "1bd21c60-8843-464c-912e-2bc24b70cc73",
   "metadata": {},
   "source": [
    "**Question 2**: What do you recognize?"
   ]
  },
  {
   "cell_type": "markdown",
   "id": "4ef1f0ad-95cf-4078-98dd-0ecc76102455",
   "metadata": {},
   "source": [
    "Your Answer:"
   ]
  },
  {
   "cell_type": "code",
   "execution_count": 4,
   "id": "5ef807d5-7829-4d1a-9ad9-ae6349b85270",
   "metadata": {
    "scrolled": true
   },
   "outputs": [
    {
     "name": "stdout",
     "output_type": "stream",
     "text": [
      "There are many many error types! Errors are a big thing in Python, as it seems...\n"
     ]
    }
   ],
   "source": [
    "from solutions import solution_builtin\n",
    "print(solution_builtin)"
   ]
  },
  {
   "cell_type": "markdown",
   "id": "8843b497-78b6-454f-a4ce-37b74ddbad3d",
   "metadata": {},
   "source": [
    "Sometimes a nice thing, mainly if you do not use an IDE: \n",
    "For your own functions (not builtins), you can also use **inspect** to get the implementation:"
   ]
  },
  {
   "cell_type": "code",
   "execution_count": 15,
   "id": "a2456679-bd40-4bc3-b7df-1e40f3e6fc58",
   "metadata": {},
   "outputs": [
    {
     "name": "stdout",
     "output_type": "stream",
     "text": [
      "def myfunc(x):\n",
      "    print(\"hi\")\n",
      "    return 42\n",
      "\n"
     ]
    }
   ],
   "source": [
    "import inspect\n",
    "\n",
    "def myfunc(x):\n",
    "    print(\"hi\")\n",
    "    return 42\n",
    "\n",
    "print(inspect.getsource(myfunc))"
   ]
  },
  {
   "cell_type": "markdown",
   "id": "8ea0ce92-e6b8-48d2-b155-51c028776ba2",
   "metadata": {},
   "source": [
    "But this does **not work** for internals, as they are precompiled in C!\n",
    "Python cannot retrieve the information on these because the implementation of the function isn't stored in a .py file, see:"
   ]
  },
  {
   "cell_type": "code",
   "execution_count": 5,
   "id": "ace12a7c-ad38-4955-9bd6-f625a869d7d8",
   "metadata": {
    "scrolled": true
   },
   "outputs": [
    {
     "ename": "TypeError",
     "evalue": "module, class, method, function, traceback, frame, or code object was expected, got builtin_function_or_method",
     "output_type": "error",
     "traceback": [
      "\u001b[0;31m---------------------------------------------------------------------------\u001b[0m",
      "\u001b[0;31mTypeError\u001b[0m                                 Traceback (most recent call last)",
      "\u001b[0;32m/tmp/ipykernel_1894/525259275.py\u001b[0m in \u001b[0;36m<module>\u001b[0;34m\u001b[0m\n\u001b[1;32m      1\u001b[0m \u001b[0;32mimport\u001b[0m \u001b[0minspect\u001b[0m\u001b[0;34m\u001b[0m\u001b[0;34m\u001b[0m\u001b[0m\n\u001b[0;32m----> 2\u001b[0;31m \u001b[0mprint\u001b[0m\u001b[0;34m(\u001b[0m\u001b[0minspect\u001b[0m\u001b[0;34m.\u001b[0m\u001b[0mgetsource\u001b[0m\u001b[0;34m(\u001b[0m\u001b[0mprint\u001b[0m\u001b[0;34m)\u001b[0m\u001b[0;34m)\u001b[0m  \u001b[0;31m# raises TypeError\u001b[0m\u001b[0;34m\u001b[0m\u001b[0;34m\u001b[0m\u001b[0m\n\u001b[0m",
      "\u001b[0;32m/cvmfs/sft.cern.ch/lcg/releases/Python/3.11.9-2924c/x86_64-el9-gcc13-opt/lib/python3.11/inspect.py\u001b[0m in \u001b[0;36mgetsource\u001b[0;34m(object)\u001b[0m\n\u001b[1;32m   1256\u001b[0m     \u001b[0;32mor\u001b[0m \u001b[0mcode\u001b[0m \u001b[0mobject\u001b[0m\u001b[0;34m.\u001b[0m  \u001b[0mThe\u001b[0m \u001b[0msource\u001b[0m \u001b[0mcode\u001b[0m \u001b[0;32mis\u001b[0m \u001b[0mreturned\u001b[0m \u001b[0;32mas\u001b[0m \u001b[0ma\u001b[0m \u001b[0msingle\u001b[0m \u001b[0mstring\u001b[0m\u001b[0;34m.\u001b[0m  \u001b[0mAn\u001b[0m\u001b[0;34m\u001b[0m\u001b[0;34m\u001b[0m\u001b[0m\n\u001b[1;32m   1257\u001b[0m     OSError is raised if the source code cannot be retrieved.\"\"\"\n\u001b[0;32m-> 1258\u001b[0;31m     \u001b[0mlines\u001b[0m\u001b[0;34m,\u001b[0m \u001b[0mlnum\u001b[0m \u001b[0;34m=\u001b[0m \u001b[0mgetsourcelines\u001b[0m\u001b[0;34m(\u001b[0m\u001b[0mobject\u001b[0m\u001b[0;34m)\u001b[0m\u001b[0;34m\u001b[0m\u001b[0;34m\u001b[0m\u001b[0m\n\u001b[0m\u001b[1;32m   1259\u001b[0m     \u001b[0;32mreturn\u001b[0m \u001b[0;34m''\u001b[0m\u001b[0;34m.\u001b[0m\u001b[0mjoin\u001b[0m\u001b[0;34m(\u001b[0m\u001b[0mlines\u001b[0m\u001b[0;34m)\u001b[0m\u001b[0;34m\u001b[0m\u001b[0;34m\u001b[0m\u001b[0m\n\u001b[1;32m   1260\u001b[0m \u001b[0;34m\u001b[0m\u001b[0m\n",
      "\u001b[0;32m/cvmfs/sft.cern.ch/lcg/releases/Python/3.11.9-2924c/x86_64-el9-gcc13-opt/lib/python3.11/inspect.py\u001b[0m in \u001b[0;36mgetsourcelines\u001b[0;34m(object)\u001b[0m\n\u001b[1;32m   1238\u001b[0m     raised if the source code cannot be retrieved.\"\"\"\n\u001b[1;32m   1239\u001b[0m     \u001b[0mobject\u001b[0m \u001b[0;34m=\u001b[0m \u001b[0munwrap\u001b[0m\u001b[0;34m(\u001b[0m\u001b[0mobject\u001b[0m\u001b[0;34m)\u001b[0m\u001b[0;34m\u001b[0m\u001b[0;34m\u001b[0m\u001b[0m\n\u001b[0;32m-> 1240\u001b[0;31m     \u001b[0mlines\u001b[0m\u001b[0;34m,\u001b[0m \u001b[0mlnum\u001b[0m \u001b[0;34m=\u001b[0m \u001b[0mfindsource\u001b[0m\u001b[0;34m(\u001b[0m\u001b[0mobject\u001b[0m\u001b[0;34m)\u001b[0m\u001b[0;34m\u001b[0m\u001b[0;34m\u001b[0m\u001b[0m\n\u001b[0m\u001b[1;32m   1241\u001b[0m \u001b[0;34m\u001b[0m\u001b[0m\n\u001b[1;32m   1242\u001b[0m     \u001b[0;32mif\u001b[0m \u001b[0mistraceback\u001b[0m\u001b[0;34m(\u001b[0m\u001b[0mobject\u001b[0m\u001b[0;34m)\u001b[0m\u001b[0;34m:\u001b[0m\u001b[0;34m\u001b[0m\u001b[0;34m\u001b[0m\u001b[0m\n",
      "\u001b[0;32m/cvmfs/sft.cern.ch/lcg/releases/Python/3.11.9-2924c/x86_64-el9-gcc13-opt/lib/python3.11/inspect.py\u001b[0m in \u001b[0;36mfindsource\u001b[0;34m(object)\u001b[0m\n\u001b[1;32m   1057\u001b[0m     is raised if the source code cannot be retrieved.\"\"\"\n\u001b[1;32m   1058\u001b[0m \u001b[0;34m\u001b[0m\u001b[0m\n\u001b[0;32m-> 1059\u001b[0;31m     \u001b[0mfile\u001b[0m \u001b[0;34m=\u001b[0m \u001b[0mgetsourcefile\u001b[0m\u001b[0;34m(\u001b[0m\u001b[0mobject\u001b[0m\u001b[0;34m)\u001b[0m\u001b[0;34m\u001b[0m\u001b[0;34m\u001b[0m\u001b[0m\n\u001b[0m\u001b[1;32m   1060\u001b[0m     \u001b[0;32mif\u001b[0m \u001b[0mfile\u001b[0m\u001b[0;34m:\u001b[0m\u001b[0;34m\u001b[0m\u001b[0;34m\u001b[0m\u001b[0m\n\u001b[1;32m   1061\u001b[0m         \u001b[0;31m# Invalidate cache if needed.\u001b[0m\u001b[0;34m\u001b[0m\u001b[0;34m\u001b[0m\u001b[0m\n",
      "\u001b[0;32m/cvmfs/sft.cern.ch/lcg/releases/Python/3.11.9-2924c/x86_64-el9-gcc13-opt/lib/python3.11/inspect.py\u001b[0m in \u001b[0;36mgetsourcefile\u001b[0;34m(object)\u001b[0m\n\u001b[1;32m    934\u001b[0m     \u001b[0mReturn\u001b[0m \u001b[0;32mNone\u001b[0m \u001b[0;32mif\u001b[0m \u001b[0mno\u001b[0m \u001b[0mway\u001b[0m \u001b[0mcan\u001b[0m \u001b[0mbe\u001b[0m \u001b[0midentified\u001b[0m \u001b[0mto\u001b[0m \u001b[0mget\u001b[0m \u001b[0mthe\u001b[0m \u001b[0msource\u001b[0m\u001b[0;34m.\u001b[0m\u001b[0;34m\u001b[0m\u001b[0;34m\u001b[0m\u001b[0m\n\u001b[1;32m    935\u001b[0m     \"\"\"\n\u001b[0;32m--> 936\u001b[0;31m     \u001b[0mfilename\u001b[0m \u001b[0;34m=\u001b[0m \u001b[0mgetfile\u001b[0m\u001b[0;34m(\u001b[0m\u001b[0mobject\u001b[0m\u001b[0;34m)\u001b[0m\u001b[0;34m\u001b[0m\u001b[0;34m\u001b[0m\u001b[0m\n\u001b[0m\u001b[1;32m    937\u001b[0m     \u001b[0mall_bytecode_suffixes\u001b[0m \u001b[0;34m=\u001b[0m \u001b[0mimportlib\u001b[0m\u001b[0;34m.\u001b[0m\u001b[0mmachinery\u001b[0m\u001b[0;34m.\u001b[0m\u001b[0mDEBUG_BYTECODE_SUFFIXES\u001b[0m\u001b[0;34m[\u001b[0m\u001b[0;34m:\u001b[0m\u001b[0;34m]\u001b[0m\u001b[0;34m\u001b[0m\u001b[0;34m\u001b[0m\u001b[0m\n\u001b[1;32m    938\u001b[0m     \u001b[0mall_bytecode_suffixes\u001b[0m \u001b[0;34m+=\u001b[0m \u001b[0mimportlib\u001b[0m\u001b[0;34m.\u001b[0m\u001b[0mmachinery\u001b[0m\u001b[0;34m.\u001b[0m\u001b[0mOPTIMIZED_BYTECODE_SUFFIXES\u001b[0m\u001b[0;34m[\u001b[0m\u001b[0;34m:\u001b[0m\u001b[0;34m]\u001b[0m\u001b[0;34m\u001b[0m\u001b[0;34m\u001b[0m\u001b[0m\n",
      "\u001b[0;32m/cvmfs/sft.cern.ch/lcg/releases/Python/3.11.9-2924c/x86_64-el9-gcc13-opt/lib/python3.11/inspect.py\u001b[0m in \u001b[0;36mgetfile\u001b[0;34m(object)\u001b[0m\n\u001b[1;32m    914\u001b[0m     \u001b[0;32mif\u001b[0m \u001b[0miscode\u001b[0m\u001b[0;34m(\u001b[0m\u001b[0mobject\u001b[0m\u001b[0;34m)\u001b[0m\u001b[0;34m:\u001b[0m\u001b[0;34m\u001b[0m\u001b[0;34m\u001b[0m\u001b[0m\n\u001b[1;32m    915\u001b[0m         \u001b[0;32mreturn\u001b[0m \u001b[0mobject\u001b[0m\u001b[0;34m.\u001b[0m\u001b[0mco_filename\u001b[0m\u001b[0;34m\u001b[0m\u001b[0;34m\u001b[0m\u001b[0m\n\u001b[0;32m--> 916\u001b[0;31m     raise TypeError('module, class, method, function, traceback, frame, or '\n\u001b[0m\u001b[1;32m    917\u001b[0m                     'code object was expected, got {}'.format(\n\u001b[1;32m    918\u001b[0m                     type(object).__name__))\n",
      "\u001b[0;31mTypeError\u001b[0m: module, class, method, function, traceback, frame, or code object was expected, got builtin_function_or_method"
     ]
    }
   ],
   "source": [
    "import inspect\n",
    "print(inspect.getsource(print))  # raises TypeError"
   ]
  },
  {
   "cell_type": "markdown",
   "id": "1e5ca3c7-145a-4ba0-b4a1-9230022fd894",
   "metadata": {},
   "source": [
    "For the builtins, we need to look that up ourselves: https://github.com/python/cpython"
   ]
  },
  {
   "cell_type": "markdown",
   "id": "d9dc1f1b-7eab-4eca-8339-bb0b8f945ed7",
   "metadata": {},
   "source": [
    "### The 'this' object (?)"
   ]
  },
  {
   "cell_type": "markdown",
   "id": "03dd7c85-2252-4bc4-b222-cb4cf318fea1",
   "metadata": {},
   "source": [
    "**Question this**: Since eveything is an object, **this** is probybly as well?\n",
    "What kind of? What are the members? Print them."
   ]
  },
  {
   "cell_type": "code",
   "execution_count": 2,
   "id": "ccfb1e20-08aa-4d7c-91df-66af0cf5c904",
   "metadata": {},
   "outputs": [],
   "source": [
    "# --- Your code goes here ---"
   ]
  },
  {
   "cell_type": "markdown",
   "id": "71608322-5a51-42f6-bb87-0f46a5ff76e8",
   "metadata": {},
   "source": [
    "**Expert question**: this.s is an encrypted version of the zen of python and this.d is the decryption mapping. Can you find a one-liner to decrypt it?"
   ]
  },
  {
   "cell_type": "code",
   "execution_count": 18,
   "id": "59eae02c-f7d7-4c4a-9499-b42395e3ca07",
   "metadata": {},
   "outputs": [],
   "source": [
    "import this\n",
    "# Your code goes here"
   ]
  },
  {
   "cell_type": "code",
   "execution_count": 15,
   "id": "47e88fd8-906f-4058-958f-a39f1a7a1f21",
   "metadata": {},
   "outputs": [
    {
     "name": "stdout",
     "output_type": "stream",
     "text": [
      "decoded_string = print(''.join([this.d.get(char, char) for char in this.s]))\n"
     ]
    }
   ],
   "source": [
    "from solutions import solution_zen\n",
    "print(solution_zen)"
   ]
  },
  {
   "cell_type": "markdown",
   "id": "c9530976-4074-4827-b98d-626ba3f14f0a",
   "metadata": {},
   "source": [
    "### Bonus: What is the Type of None?\n",
    "- 'None' is the None/Null type in Python and means simply \"nothing\".\n",
    "- In Python, **None** is an instance of the **NoneType** class.\n",
    "- It is a **singleton**, meaning, at runtime, only one None object of type NoneType exists (and can exist!)\n",
    "- You cannot access NoneType directly as a name because it’s an internal type used for None, and it doesn’t have a visible, globally accessible class or type called NoneType.\n",
    "- It is good practice to use None as default function arguments, when actually no default is given, as it **indicates that no argument was provided in the function call** "
   ]
  },
  {
   "cell_type": "code",
   "execution_count": 14,
   "id": "f2a2af07-1fd4-40c0-8102-58b0e8bd6539",
   "metadata": {},
   "outputs": [
    {
     "name": "stdout",
     "output_type": "stream",
     "text": [
      "<class 'NoneType'>\n",
      "139701034281952\n",
      "['__bool__', '__class__', '__delattr__', '__dir__', '__doc__', '__eq__', '__format__', '__ge__', '__getattribute__', '__getstate__', '__gt__', '__hash__', '__init__', '__init_subclass__', '__le__', '__lt__', '__ne__', '__new__', '__reduce__', '__reduce_ex__', '__repr__', '__setattr__', '__sizeof__', '__str__', '__subclasshook__']\n"
     ]
    }
   ],
   "source": [
    "print(type(None))  # It's an object of a the class NoneType\n",
    "print(id(None))  # See next example section\n",
    "print(dir(None))"
   ]
  },
  {
   "cell_type": "code",
   "execution_count": 16,
   "id": "e21ba613-0bdb-4564-a7d4-2d5229576372",
   "metadata": {},
   "outputs": [
    {
     "name": "stdout",
     "output_type": "stream",
     "text": [
      "139701034281952\n",
      "139701034281952\n"
     ]
    }
   ],
   "source": [
    "a = None\n",
    "print(id(a))\n",
    "b = None\n",
    "print(id(b))"
   ]
  },
  {
   "cell_type": "markdown",
   "id": "f0024670-2c17-4b71-b27d-495d3fd93d94",
   "metadata": {},
   "source": [
    "As a (nice) consequence, we can use the keyword **is** to check, whether a value is None: (This makes the Python language even more natural)"
   ]
  },
  {
   "cell_type": "code",
   "execution_count": 18,
   "id": "c855033f-4cbf-4365-b244-5e45f11ad53e",
   "metadata": {},
   "outputs": [
    {
     "name": "stdout",
     "output_type": "stream",
     "text": [
      "True\n",
      "X is just nothing.\n"
     ]
    }
   ],
   "source": [
    "x = None\n",
    "if x is None:\n",
    "    print(x is None)\n",
    "    print(\"X is just nothing.\")"
   ]
  },
  {
   "cell_type": "markdown",
   "id": "13036584-960e-4eb0-a83e-b68bf465fb3c",
   "metadata": {},
   "source": [
    "On top, it is the return value of functions that do not return anything:"
   ]
  },
  {
   "cell_type": "code",
   "execution_count": 19,
   "id": "52963f56-51d4-4b5d-a7f8-6535de07dd1b",
   "metadata": {},
   "outputs": [
    {
     "name": "stdout",
     "output_type": "stream",
     "text": [
      "None\n"
     ]
    }
   ],
   "source": [
    "def no_return() -> None:\n",
    "    pass\n",
    "\n",
    "result = no_return()\n",
    "print(result)"
   ]
  },
  {
   "cell_type": "markdown",
   "id": "09a322b3-cb61-4521-8fef-6464597b95ed",
   "metadata": {},
   "source": [
    "## Example: References and Memory\n",
    "Everything is an object. Except variables. Variables are references to objects!"
   ]
  },
  {
   "cell_type": "code",
   "execution_count": 20,
   "id": "42fb246d-8b45-483a-8bd1-05f14c0b5ae3",
   "metadata": {},
   "outputs": [
    {
     "name": "stdout",
     "output_type": "stream",
     "text": [
      "1\n",
      "140649216417832\n",
      "140649216417832\n"
     ]
    }
   ],
   "source": [
    "a = 1\n",
    "b = a\n",
    "print(b)\n",
    "# a and b are now referencing the same memomry address\n",
    "print(id(a))  \n",
    "print(id(b))  # The same as a"
   ]
  },
  {
   "cell_type": "markdown",
   "id": "ead792f6-5d0d-48f6-ae5c-ebf870d0d3e9",
   "metadata": {},
   "source": [
    "If we now change the value of a:"
   ]
  },
  {
   "cell_type": "code",
   "execution_count": 21,
   "id": "a15a0fc2-571a-4ae8-9469-77650c9199ba",
   "metadata": {},
   "outputs": [
    {
     "name": "stdout",
     "output_type": "stream",
     "text": [
      "1\n",
      "140649216417864\n",
      "140649216417832\n"
     ]
    }
   ],
   "source": [
    "a = 2\n",
    "print(b)  # Still points to (the old) a!\n",
    "print(id(a))\n",
    "print(id(b))"
   ]
  },
  {
   "cell_type": "markdown",
   "id": "83a7df03-c5fb-47b1-8d82-42bd8aba17df",
   "metadata": {},
   "source": [
    "**Question 1**: If 'b' is only a reference, why does 'b' not change accordingly?"
   ]
  },
  {
   "cell_type": "code",
   "execution_count": 19,
   "id": "3d936b5b-ea04-4a09-b1ae-61e30b216705",
   "metadata": {
    "scrolled": true
   },
   "outputs": [
    {
     "name": "stdout",
     "output_type": "stream",
     "text": [
      "Despite 'a' keeps its type, but 'int' is not mutable. Therefore, the asignment is a re-assignment with a nem memory allocation. The reference 'b' to the old a, however, keeps the old value of 'a' alive at the old address! This needs to be considered when writing memory efficient code!\n"
     ]
    }
   ],
   "source": [
    "from solutions import solution_ref1\n",
    "print(solution_ref1)"
   ]
  },
  {
   "cell_type": "markdown",
   "id": "c48e9b3b-c1b2-4c65-a720-63ed2e18ceb8",
   "metadata": {},
   "source": [
    "This is more clear in the following example:"
   ]
  },
  {
   "cell_type": "code",
   "execution_count": 8,
   "id": "33247c5e-dfbd-4faa-8713-40a9e069c4ca",
   "metadata": {},
   "outputs": [
    {
     "name": "stdout",
     "output_type": "stream",
     "text": [
      "140476427870248\n",
      "140476427870280\n"
     ]
    }
   ],
   "source": [
    "x = 1\n",
    "print(id(x))\n",
    "x += 1\n",
    "print(id(x))  # The memory identifier changed! -> We have created a new object. The old one is dereferenced and garbace collected automatically"
   ]
  },
  {
   "cell_type": "markdown",
   "id": "b617bdc9-5148-446f-85a4-c2e3bbfa7fb7",
   "metadata": {},
   "source": [
    "**Take-away**: An arithmetic operation is always a re-assignment in Python!"
   ]
  },
  {
   "cell_type": "markdown",
   "id": "75682655-215a-4b5f-9ad3-abf972d273ed",
   "metadata": {},
   "source": [
    "Since the garbage collector is also just an abstraction, we even can keep track of it and force it, if we want:"
   ]
  },
  {
   "cell_type": "code",
   "execution_count": 17,
   "id": "196aa5e4-ddec-490e-84ff-fb876c796d55",
   "metadata": {},
   "outputs": [
    {
     "name": "stdout",
     "output_type": "stream",
     "text": [
      "Original id of x: 140476427870248\n",
      "Original id of x after manual GC: 140476427870248\n",
      "New id of x after modification: 140476427870280\n",
      "All tracekd objects: 75034\n",
      "Original object still exists: False\n"
     ]
    }
   ],
   "source": [
    "import gc\n",
    "\n",
    "x = 1\n",
    "old_obj = id(x)\n",
    "print(f'Original id of x: {old_obj}')\n",
    "\n",
    "gc.collect()  # Force garbage collection and check for the original object\n",
    "print(f'Original id of x after manual GC: {old_obj}')\n",
    "\n",
    "x += 1\n",
    "print(\"New id of x after modification:\", id(x))\n",
    "\n",
    "# Check if the original object is still in memory\n",
    "all_objects = gc.get_objects()  # Warning: Do NOT print! -> can ge many\n",
    "print(f\"All tracekd objects: {len(all_objects)}\")\n",
    "\n",
    "# Look for references to the old object\n",
    "original_object_still_exists = any(obj is old_obj for obj in all_objects)  # any() returns 'True' if any of the objects in the all_objects list matches the old_obj\n",
    "print(\"Original object still exists:\", original_object_still_exists)\n",
    "\n",
    "# Additional info:\n",
    "# any() is a generator expression\n",
    "# It does not create an actual list in memory, but instead, it generates values one by one as needed, making it more memory-efficient when you're working with large datasets"
   ]
  },
  {
   "cell_type": "markdown",
   "id": "a73c7db4-9c91-48b0-a903-4cd2f7bd7130",
   "metadata": {},
   "source": [
    "### Reference Counting\n",
    "The above can be cross-checked by investigating the **reference count** of an object. It tells the number of references pointing to a certain memory object identifier."
   ]
  },
  {
   "cell_type": "code",
   "execution_count": 3,
   "id": "b89b6e6c-da41-4163-8e3b-2487a5a9db07",
   "metadata": {},
   "outputs": [
    {
     "name": "stdout",
     "output_type": "stream",
     "text": [
      "2\n"
     ]
    }
   ],
   "source": [
    "import sys\n",
    "my_list = [1, 2, 3]\n",
    "print(sys.getrefcount(my_list))"
   ]
  },
  {
   "cell_type": "markdown",
   "id": "85744704-c778-4fe0-b088-0aa9c4c65504",
   "metadata": {},
   "source": [
    "But once again, there are some weird cases... "
   ]
  },
  {
   "cell_type": "code",
   "execution_count": 22,
   "id": "ab2253de-1fef-48ac-8555-81bcedfb851b",
   "metadata": {
    "scrolled": true
   },
   "outputs": [
    {
     "name": "stdout",
     "output_type": "stream",
     "text": [
      "3\n"
     ]
    }
   ],
   "source": [
    "import sys\n",
    "test_var = 1234567\n",
    "print(sys.getrefcount(test_var))"
   ]
  },
  {
   "cell_type": "markdown",
   "id": "f1558bdd-119a-49a7-8e26-1e62736d2d4f",
   "metadata": {},
   "source": [
    "**Question (hard)**: Why is it 3?"
   ]
  },
  {
   "cell_type": "code",
   "execution_count": 23,
   "id": "b7cbd9d4-7157-45e3-ad5b-72e7a1beaf88",
   "metadata": {},
   "outputs": [
    {
     "name": "stdout",
     "output_type": "stream",
     "text": [
      "Integers (and a few other built-ins, mostly the immutables: str, float, tuple) are also handled via Py_INCREF/Py_DECREF c_call, but through slightly different internal code paths, mainly for optimization reasons. They are often passed through additional C-level reference handling macros (sometimes incrementing a borrowed reference while fetching the value, adding an extra temporary INCREF).\n",
      "The tracked count can therefore differ by 1 depending on how the object type is handled internally.\n",
      "\n",
      "What happens step by step:\n",
      "When you create test_var = 1234567, a new int object is allocated -> It gets a reference count of 1.\n",
      "Now, when calling sys.getrefcount(test_var), the function call itself temporarily creates another reference (to pass the object into the underlying C function macros for optimization) -> Now, the refcount is 2.\n",
      "Then, sys.getrefcount adds one more reference temporarily while retrieving the count internally in C -> 3.\n",
      "After the call returns, the temporary references are derefenced and the count goes back to 1.\n"
     ]
    }
   ],
   "source": [
    "from solutions import solution_ref2\n",
    "print(solution_ref2)"
   ]
  },
  {
   "cell_type": "markdown",
   "id": "2064dce0-7739-43b9-880f-09232aad337b",
   "metadata": {},
   "source": [
    "But wait, it can get even more strange:"
   ]
  },
  {
   "cell_type": "code",
   "execution_count": 1,
   "id": "3c4194c9-8b12-4963-a505-6f86f97d50c8",
   "metadata": {},
   "outputs": [
    {
     "data": {
      "text/plain": [
       "1000003619"
      ]
     },
     "execution_count": 1,
     "metadata": {},
     "output_type": "execute_result"
    }
   ],
   "source": [
    "import sys\n",
    "test_var = 1\n",
    "sys.getrefcount(test_var)"
   ]
  },
  {
   "cell_type": "markdown",
   "id": "bfc58cdc-a855-4622-b349-cb323cdd7004",
   "metadata": {},
   "source": [
    "**Any idea why?**"
   ]
  },
  {
   "cell_type": "markdown",
   "id": "50d20429-357e-4a17-988f-a3631ec48108",
   "metadata": {},
   "source": []
  },
  {
   "cell_type": "markdown",
   "id": "5f869d89-2949-44d8-935d-4e095f839fa6",
   "metadata": {},
   "source": [
    "Have a look at the following cell: "
   ]
  },
  {
   "cell_type": "code",
   "execution_count": 3,
   "id": "b2ab26a8-8d1b-489c-830b-2968939d614d",
   "metadata": {
    "scrolled": true
   },
   "outputs": [
    {
     "name": "stdout",
     "output_type": "stream",
     "text": [
      "-10: 2\n",
      "-9: 2\n",
      "-8: 2\n",
      "-7: 2\n",
      "-6: 2\n",
      "-5: 1000000009\n",
      "-4: 1000000013\n",
      "-3: 1000000027\n",
      "-2: 1000000075\n",
      "-1: 1000000773\n",
      "0: 1000005549\n",
      "1: 1000003609\n",
      "2: 1000001497\n",
      "3: 1000000685\n",
      "4: 1000000663\n",
      "5: 1000000367\n",
      "6: 1000000411\n",
      "7: 1000000224\n",
      "8: 1000000360\n",
      "9: 1000000199\n",
      "10: 1000000227\n",
      "11: 1000000187\n",
      "12: 1000000128\n",
      "13: 1000000215\n",
      "14: 1000000111\n",
      "15: 1000000121\n",
      "16: 1000000280\n",
      "17: 1000000080\n",
      "18: 1000000075\n",
      "19: 1000000067\n",
      "20: 1000000417\n",
      "21: 1000000069\n",
      "22: 1000000073\n",
      "23: 1000000061\n",
      "24: 1000000073\n",
      "25: 1000000061\n",
      "26: 1000000047\n",
      "27: 1000000046\n",
      "28: 1000000046\n",
      "29: 1000000052\n",
      "30: 1000000084\n",
      "31: 1000000060\n",
      "32: 1000000190\n",
      "33: 1000000085\n",
      "34: 1000000109\n",
      "35: 1000000052\n",
      "36: 1000000081\n",
      "37: 1000000046\n",
      "38: 1000000076\n",
      "39: 1000000061\n",
      "40: 1000000069\n",
      "41: 1000000033\n",
      "42: 1000000037\n",
      "43: 1000000035\n",
      "44: 1000000061\n",
      "45: 1000000032\n",
      "46: 1000000132\n",
      "47: 1000000070\n",
      "48: 1000000044\n",
      "49: 1000000035\n",
      "50: 1000000081\n",
      "51: 1000000037\n",
      "52: 1000000024\n",
      "53: 1000000041\n",
      "54: 1000000037\n",
      "55: 1000000036\n",
      "56: 1000000049\n",
      "57: 1000000147\n",
      "58: 1000000114\n",
      "59: 1000000034\n",
      "60: 1000000064\n",
      "61: 1000000063\n",
      "62: 1000000023\n",
      "63: 1000000027\n",
      "64: 1000000117\n",
      "65: 1000000021\n",
      "66: 1000000026\n",
      "67: 1000000017\n",
      "68: 1000000022\n",
      "69: 1000000017\n",
      "70: 1000000027\n",
      "71: 1000000023\n",
      "72: 1000000023\n",
      "73: 1000000019\n",
      "74: 1000000018\n",
      "75: 1000000021\n",
      "76: 1000000029\n",
      "77: 1000000018\n",
      "78: 1000000025\n",
      "79: 1000000023\n",
      "80: 1000000049\n",
      "81: 1000000016\n",
      "82: 1000000010\n",
      "83: 1000000010\n",
      "84: 1000000016\n",
      "85: 1000000019\n",
      "86: 1000000018\n",
      "87: 1000000015\n",
      "88: 1000000030\n",
      "89: 1000000015\n",
      "90: 1000000034\n",
      "91: 1000000021\n",
      "92: 1000000023\n",
      "93: 1000000020\n",
      "94: 1000000013\n",
      "95: 1000000130\n",
      "96: 1000000019\n",
      "97: 1000000022\n",
      "98: 1000000020\n",
      "99: 1000000020\n",
      "100: 1000000144\n",
      "101: 1000000065\n",
      "102: 1000000054\n",
      "103: 1000000060\n",
      "104: 1000000053\n",
      "105: 1000000056\n",
      "106: 1000000048\n",
      "107: 1000000063\n",
      "108: 1000000054\n",
      "109: 1000000050\n",
      "110: 1000000054\n",
      "111: 1000000062\n",
      "112: 1000000046\n",
      "113: 1000000047\n",
      "114: 1000000045\n",
      "115: 1000000050\n",
      "116: 1000000041\n",
      "117: 1000000034\n",
      "118: 1000000039\n",
      "119: 1000000036\n",
      "120: 1000000039\n",
      "121: 1000000036\n",
      "122: 1000000042\n",
      "123: 1000000036\n",
      "124: 1000000033\n",
      "125: 1000000033\n",
      "126: 1000000032\n",
      "127: 1000000052\n",
      "128: 1000000147\n",
      "129: 1000000045\n",
      "130: 1000000037\n",
      "131: 1000000030\n",
      "132: 1000000033\n",
      "133: 1000000026\n",
      "134: 1000000028\n",
      "135: 1000000137\n",
      "136: 1000000031\n",
      "137: 1000000029\n",
      "138: 1000000030\n",
      "139: 1000000029\n",
      "140: 1000000024\n",
      "141: 1000000023\n",
      "142: 1000000025\n",
      "143: 1000000026\n",
      "144: 1000000036\n",
      "145: 1000000025\n",
      "146: 1000000021\n",
      "147: 1000000026\n",
      "148: 1000000028\n",
      "149: 1000000024\n",
      "150: 1000000023\n",
      "151: 1000000024\n",
      "152: 1000000022\n",
      "153: 1000000019\n",
      "154: 1000000023\n",
      "155: 1000000022\n",
      "156: 1000000019\n",
      "157: 1000000020\n",
      "158: 1000000023\n",
      "159: 1000000025\n",
      "160: 1000000027\n",
      "161: 1000000019\n",
      "162: 1000000019\n",
      "163: 1000000018\n",
      "164: 1000000017\n",
      "165: 1000000016\n",
      "166: 1000000017\n",
      "167: 1000000016\n",
      "168: 1000000019\n",
      "169: 1000000015\n",
      "170: 1000000015\n",
      "171: 1000000015\n",
      "172: 1000000018\n",
      "173: 1000000017\n",
      "174: 1000000016\n",
      "175: 1000000126\n",
      "176: 1000000017\n",
      "177: 1000000014\n",
      "178: 1000000018\n",
      "179: 1000000015\n",
      "180: 1000000015\n",
      "181: 1000000017\n",
      "182: 1000000012\n",
      "183: 1000000013\n",
      "184: 1000000012\n",
      "185: 1000000013\n",
      "186: 1000000012\n",
      "187: 1000000012\n",
      "188: 1000000015\n",
      "189: 1000000012\n",
      "190: 1000000012\n",
      "191: 1000000012\n",
      "192: 1000000013\n",
      "193: 1000000011\n",
      "194: 1000000013\n",
      "195: 1000000011\n",
      "196: 1000000011\n",
      "197: 1000000011\n",
      "198: 1000000013\n",
      "199: 1000000011\n",
      "200: 1000000029\n",
      "201: 1000000016\n",
      "202: 1000000016\n",
      "203: 1000000017\n",
      "204: 1000000017\n",
      "205: 1000000024\n",
      "206: 1000000020\n",
      "207: 1000000016\n",
      "208: 1000000021\n",
      "209: 1000000012\n",
      "210: 1000000011\n",
      "211: 1000000011\n",
      "212: 1000000012\n",
      "213: 1000000011\n",
      "214: 1000000010\n",
      "215: 1000000120\n",
      "216: 1000000010\n",
      "217: 1000000012\n",
      "218: 1000000016\n",
      "219: 1000000011\n",
      "220: 1000000010\n",
      "221: 1000000011\n",
      "222: 1000000011\n",
      "223: 1000000012\n",
      "224: 1000000011\n",
      "225: 1000000011\n",
      "226: 1000000012\n",
      "227: 1000000012\n",
      "228: 1000000011\n",
      "229: 1000000014\n",
      "230: 1000000010\n",
      "231: 1000000009\n",
      "232: 1000000008\n",
      "233: 1000000007\n",
      "234: 1000000009\n",
      "235: 1000000009\n",
      "236: 1000000008\n",
      "237: 1000000007\n",
      "238: 1000000010\n",
      "239: 1000000008\n",
      "240: 1000000008\n",
      "241: 1000000008\n",
      "242: 1000000009\n",
      "243: 1000000009\n",
      "244: 1000000008\n",
      "245: 1000000008\n",
      "246: 1000000007\n",
      "247: 1000000007\n",
      "248: 1000000007\n",
      "249: 1000000010\n",
      "250: 1000000010\n",
      "251: 1000000009\n",
      "252: 1000000008\n",
      "253: 1000000011\n",
      "254: 1000000012\n",
      "255: 1000000174\n",
      "256: 1000000091\n",
      "257: 2\n",
      "258: 2\n",
      "259: 2\n",
      "260: 2\n",
      "261: 2\n",
      "262: 2\n",
      "263: 2\n",
      "264: 2\n",
      "265: 2\n",
      "266: 2\n",
      "267: 2\n",
      "268: 2\n",
      "269: 2\n",
      "270: 2\n",
      "271: 2\n",
      "272: 2\n",
      "273: 2\n",
      "274: 2\n",
      "275: 2\n",
      "276: 2\n",
      "277: 2\n",
      "278: 2\n",
      "279: 2\n",
      "280: 2\n",
      "281: 2\n",
      "282: 2\n",
      "283: 2\n",
      "284: 2\n",
      "285: 2\n",
      "286: 2\n",
      "287: 2\n",
      "288: 2\n",
      "289: 2\n",
      "290: 2\n",
      "291: 2\n",
      "292: 2\n",
      "293: 2\n",
      "294: 2\n",
      "295: 2\n",
      "296: 2\n",
      "297: 2\n",
      "298: 2\n",
      "299: 2\n"
     ]
    }
   ],
   "source": [
    "# Here, the reference count of integers from -10 to 300 are printed\n",
    "import inspect\n",
    "from solutions import print_ref_count\n",
    "print_ref_count()"
   ]
  },
  {
   "cell_type": "code",
   "execution_count": 2,
   "id": "8a1135e6-c5e1-43eb-8c13-a20c3edb2214",
   "metadata": {},
   "outputs": [
    {
     "name": "stdout",
     "output_type": "stream",
     "text": [
      "\n",
      "def print_ref_count() -> None:\n",
      "    import sys\n",
      "    [print(f'{i}: {sys.getrefcount(i)}') for i in range(-10, 300)]\n",
      "\n"
     ]
    }
   ],
   "source": [
    "# Implementation of print_ref_count():\n",
    "from tips import tip1\n",
    "print(tip1)"
   ]
  },
  {
   "cell_type": "code",
   "execution_count": 4,
   "id": "07692dc1-6cf1-49dd-85d6-3f6e2ba9a7ca",
   "metadata": {},
   "outputs": [
    {
     "name": "stdout",
     "output_type": "stream",
     "text": [
      "In modern CPython (>3.12), many “forever” objects like small integers are 'immortal' -> Small integers are a globally shared int (defacto singletons).\n",
      "CPython marks such objects with a very large refcount (a sentinel) so they’re never deallocated.\n",
      "The number is expected and not the “real” number of actually active references. By marking them immortal, Python can skip refcount updates entirely, gaining performance.\n"
     ]
    }
   ],
   "source": [
    "from solutions import solution_ref3\n",
    "print(solution_ref3)"
   ]
  },
  {
   "cell_type": "markdown",
   "id": "8fc89766-de56-41c7-808b-b97e3fbfe5a1",
   "metadata": {},
   "source": [
    "Finally, let's have a look at a manual **GC** example, to better visualize what is happening:"
   ]
  },
  {
   "cell_type": "code",
   "execution_count": 5,
   "id": "21ef2269-640d-403b-a14a-e0895f42b2fe",
   "metadata": {},
   "outputs": [
    {
     "name": "stdout",
     "output_type": "stream",
     "text": [
      "refs(a): 2\n",
      "after b=a -> refs(a): 3\n",
      "after put in list -> refs(a): 4\n",
      "after del b -> refs(a): 3\n",
      "Tracer freed (refcount hit 0)\n",
      "Collecting cycles: 2 objects reclaimed\n"
     ]
    }
   ],
   "source": [
    "import sys, gc\n",
    "\n",
    "class Tracer:\n",
    "    def __del__(self):\n",
    "        print(\"Tracer freed (refcount hit 0)\")\n",
    "\n",
    "# 1) Refcount rises/falls deterministically\n",
    "a = Tracer()\n",
    "print(\"refs(a):\", sys.getrefcount(a))      # +1 from getrefcount's temp ref\n",
    "\n",
    "b = a                                      # new reference\n",
    "print(\"after b=a -> refs(a):\", sys.getrefcount(a))\n",
    "\n",
    "lst = [a]                                  # stored in a container\n",
    "print(\"after put in list -> refs(a):\", sys.getrefcount(a))\n",
    "\n",
    "del b\n",
    "print(\"after del b -> refs(a):\", sys.getrefcount(a))\n",
    "\n",
    "del lst\n",
    "del a  # Drops to zero -> __del__ runs immediately\n",
    "\n",
    "# 2) Cycles don't hit zero -> need the cycle GC\n",
    "class Node:\n",
    "    pass\n",
    "\n",
    "# Make garbage collection visible via manual collection\n",
    "gc.disable()\n",
    "x, y = Node(), Node()\n",
    "x.other, y.other = y, x  # create a reference cycle\n",
    "del x, y\n",
    "print(\"Collecting cycles:\", gc.collect(), \"objects reclaimed\")\n",
    "gc.enable()\n"
   ]
  },
  {
   "cell_type": "markdown",
   "id": "fd1e5138-dafb-4392-804d-00dffdd44bfc",
   "metadata": {},
   "source": [
    "### Keeping Track of Memory\n",
    "\n",
    "Python can be very memory hungry. If we may have a dangling reference to a large object laying around somewhere, it is still kept in memory. This is why it can be useful to keep track of the references (I'd say, only if memory might become a bottleneck!).\n",
    "\n",
    "\n",
    " To keep track of the memory usage, we have different options in Python:\n",
    "- sys.getsizeof(): Note that this only gives the immediate memory usage of the object and does not consider referenced objects.\n",
    "- tracemalloc: Builtin for tracking memory usage over time and comparing memory allocations at different points during execution. This method tracks memory snapshots.\n",
    "- Modules: memory_profiler, psutil\n",
    "- External tools: htop, smem, $ pmap -x <pid>, $ ps -p <pid> -o %mem,vsz,rss, vmstat 1 (the 1 defines the interval, without, it is the current snapshot)"
   ]
  },
  {
   "cell_type": "markdown",
   "id": "8fefa321-8c84-4b8c-984a-89eb32521a2e",
   "metadata": {},
   "source": [
    "At first, we take the example from above (any()...) and compare the memory usage of the generator expression with a list compression:"
   ]
  },
  {
   "cell_type": "code",
   "execution_count": 6,
   "id": "c748e616-0c51-4e09-90de-982f36e2fc1d",
   "metadata": {},
   "outputs": [
    {
     "name": "stdout",
     "output_type": "stream",
     "text": [
      "Memory usage of list comprehension: 85176 bytes\n",
      "Memory usage of generator expression: 208 bytes\n"
     ]
    }
   ],
   "source": [
    "# sys.getsizeof()\n",
    "import sys\n",
    "\n",
    "data = [i for i in range(10000)]\n",
    "\n",
    "# List comprehension\n",
    "list_comp = [x * 2 for x in data]\n",
    "print(f\"Memory usage of list comprehension: {sys.getsizeof(list_comp)} bytes\")\n",
    "\n",
    "# Generator expression\n",
    "gen_exp = (x * 2 for x in data)\n",
    "print(f\"Memory usage of generator expression: {sys.getsizeof(gen_exp)} bytes\")\n",
    "\n",
    "# Note: This provides only a snapshot and therefore, the generator expression is only the memory of one element\n",
    "# Note 2: While generator expressions are more memory efficient, they can be less performant, as they are lazy evaulated (per object).\n",
    "# This means, additional 'yield' calls are required internally and less low-level optimization is done in the background."
   ]
  },
  {
   "cell_type": "code",
   "execution_count": 19,
   "id": "022261b3-e9a0-4c9a-915a-a4789fb931fd",
   "metadata": {},
   "outputs": [
    {
     "name": "stdout",
     "output_type": "stream",
     "text": [
      "Memory usage after list comprehension: 391.59 KB\n",
      "Memory usage after generator expression: 391.59 KB\n"
     ]
    }
   ],
   "source": [
    "import tracemalloc\n",
    "\n",
    "# Start tracking memory allocations\n",
    "tracemalloc.start()\n",
    "\n",
    "# Example list of integers\n",
    "data = [i for i in range(10000)]\n",
    "\n",
    "# List comprehension\n",
    "list_comp = [x * 2 for x in data]\n",
    "snapshot1 = tracemalloc.take_snapshot()\n",
    "\n",
    "# Generator expression\n",
    "gen_exp = (x * 2 for x in data)\n",
    "snapshot2 = tracemalloc.take_snapshot()\n",
    "\n",
    "# Compare memory usage\n",
    "stats1 = snapshot1.statistics('lineno')\n",
    "stats2 = snapshot2.statistics('lineno')\n",
    "\n",
    "print(f\"Memory usage after list comprehension: {stats1[0].size / 1024:.2f} KB\")\n",
    "print(f\"Memory usage after generator expression: {stats2[0].size / 1024:.2f} KB\")\n"
   ]
  },
  {
   "cell_type": "markdown",
   "id": "f3bc21b9-1f5d-4097-8eba-d2412c99da1d",
   "metadata": {},
   "source": [
    "**Python has many ways of optimizing memory usage**:\n",
    "- https://stackoverflow.com/questions/11002247/how-to-reduce-python-script-memory-usage -> links to multiple Python wiki pages\n",
    "- Use NumPy"
   ]
  },
  {
   "cell_type": "markdown",
   "id": "ca766a55-36be-4178-84b4-57d700c0878a",
   "metadata": {},
   "source": [
    "### Deep Copy"
   ]
  },
  {
   "cell_type": "markdown",
   "id": "7823407d-c808-4d8a-a6eb-ae0d6b7cf814",
   "metadata": {},
   "source": [
    "Sometimes, it can also be usefult, to use a deep copy instead of a new reference to an object:"
   ]
  },
  {
   "cell_type": "code",
   "execution_count": 4,
   "id": "0cff93de-fe4b-4320-9859-3f4f1dc4e345",
   "metadata": {},
   "outputs": [
    {
     "name": "stdout",
     "output_type": "stream",
     "text": [
      "139954053524416\n",
      "139954053524096\n",
      "Original list: [[1, 2, 3], [4, 5, 6]]\n",
      "Deep copied list: [['X', 2, 3], [4, 5, 6]]\n",
      "139954053524416\n",
      "139954053524096\n"
     ]
    }
   ],
   "source": [
    "import copy\n",
    "list_a = [[1, 2, 3], [4, 5, 6]]\n",
    "list_b = copy.deepcopy(list_a)\n",
    "print(id(list_a))\n",
    "print(id(list_b))\n",
    "\n",
    "# Modify the copied list\n",
    "list_b[0][0] = 'X'\n",
    "\n",
    "print(\"Original list:\", list_a)\n",
    "print(\"Deep copied list:\", list_b)\n",
    "print(id(list_a))\n",
    "print(id(list_b))"
   ]
  },
  {
   "cell_type": "markdown",
   "id": "6232ee74-6b0d-4357-828c-bc5c9d5e5249",
   "metadata": {},
   "source": [
    "The downside is of course more memory use (but at least in a saver way, as we do not keep stale objects forever!)"
   ]
  },
  {
   "cell_type": "markdown",
   "id": "37e8bbad-3d43-44c4-985b-405266ff9307",
   "metadata": {},
   "source": [
    "This can also very valuable, if you do not want to alter the original data, e.g. if the read-in is time-consuming.\n",
    "I often use this together with pandas. But as said before, it can be very memory-demanding to keep multile copies in memory! (My record was several 100GB - NOTHING TO BE PROUD OF... :D)"
   ]
  },
  {
   "cell_type": "markdown",
   "id": "d93d00fb-b81d-45ec-9dd8-c61c260d1664",
   "metadata": {},
   "source": [
    "### Context Managers\n",
    "Context managers in Python are used to manage resources efficiently, ensuring that setup and cleanup tasks are handled automatically. The **with** statement ensures that resources (like files, network connections, or database connections) are properly opened and closed, even if an error occurs within the block. This prevents resource leaks and simplifies code that would otherwise require explicit error handling for closing resources. Context managers are implemented using the **_ _enter_ _** and **_ _exit_ _** methods, and they can be custom-made or used through built-in ones like **open()** for files.\n",
    "In terms of memory, they help automatically handle resource cleanup, which includes memory allocation and deallocation."
   ]
  },
  {
   "cell_type": "code",
   "execution_count": 58,
   "id": "81768ad0-24ed-4ced-874d-3841e957bc62",
   "metadata": {},
   "outputs": [],
   "source": [
    "with open('example.txt', 'w') as file:\n",
    "    file.write('Hello, world!')"
   ]
  },
  {
   "cell_type": "code",
   "execution_count": 59,
   "id": "91406db2-f809-4a47-9323-61bdf0c2d8f2",
   "metadata": {},
   "outputs": [
    {
     "name": "stdout",
     "output_type": "stream",
     "text": [
      "Hello, world!"
     ]
    }
   ],
   "source": [
    "!cat example.txt"
   ]
  },
  {
   "cell_type": "markdown",
   "id": "1e0f57a2-6f83-46e3-9419-e15f9856a388",
   "metadata": {},
   "source": [
    "## (Im)mutable and Hashable\n",
    "Python has two types of built-in data types which are distinguished by if they are mutable or not.\n"
   ]
  },
  {
   "cell_type": "code",
   "execution_count": 9,
   "id": "b0eb5041-cc38-412d-a312-33824a977077",
   "metadata": {},
   "outputs": [
    {
     "name": "stdout",
     "output_type": "stream",
     "text": [
      "140389605777576\n",
      "140389605777736\n",
      "140389402710336\n",
      "140389402710336\n",
      "140389402710336\n",
      "140389402652032\n",
      "140389402652032\n"
     ]
    }
   ],
   "source": [
    "# --- Immutable types ---\n",
    "x = 5\n",
    "print(id(x))\n",
    "x = 10  # This creates a new int, 5 is unchanged and will be garbage collected if not referenced anymore\n",
    "print(id(x))\n",
    "\n",
    "y = \"hello\"  # str\n",
    "# y[0] = \"H\"  # This would raise an error, because strings are immutable.\n",
    "z = (1, 2, 3)  # tupel\n",
    "# z[0] = 10  # This would raise an error, because tuples are immutable.\n",
    "\n",
    "# --- Mutable types ---\n",
    "a = [1, 2, 3]  # list\n",
    "print(id(a))\n",
    "a[0] = 10\n",
    "print(id(a))\n",
    "a.append(42)\n",
    "print(id(a))\n",
    "\n",
    "b = {\"key\": \"value\"}\n",
    "print(id(b))\n",
    "b[\"key\"] = \"new_value\"\n",
    "print(id(b))"
   ]
  },
  {
   "cell_type": "markdown",
   "id": "ed3a3c33-1891-4df8-83a6-4b0334e6326d",
   "metadata": {},
   "source": [
    "**Question**: As we can see here, the memory object id does not change for mutable objects when they are changed! \n",
    "Does this change the behaviour we have observed in the reference example before (with int)?"
   ]
  },
  {
   "cell_type": "markdown",
   "id": "c1989346-edd0-404f-84bc-5b968ecd60b1",
   "metadata": {},
   "source": [
    "Your answer:"
   ]
  },
  {
   "cell_type": "code",
   "execution_count": 1,
   "id": "4342f005-33af-40f7-b50d-035de93525b9",
   "metadata": {},
   "outputs": [
    {
     "name": "stdout",
     "output_type": "stream",
     "text": [
      "Yes! For mutable objects, we do not have a re-assignement and therefore, another reference ('b') still points to the original object!\n",
      "Code:\n",
      "# Let's try it out:\n",
      "a = [1, 2, 3]  # list\n",
      "b = a\n",
      "print(id(a))\n",
      "print(id(b))\n",
      "a[0] = 10\n",
      "print(id(a))\n",
      "print(id(b))\n",
      "print(b)\n",
      "\n"
     ]
    }
   ],
   "source": [
    "from solutions import solution_im1\n",
    "print(solution_im1)"
   ]
  },
  {
   "cell_type": "markdown",
   "id": "03570018-243b-41c0-9708-d81ad09e8a9b",
   "metadata": {},
   "source": [
    "**Question 2**: If we now change 'b', will this also change 'a'?"
   ]
  },
  {
   "cell_type": "code",
   "execution_count": 1,
   "id": "61486ad2-b32b-4fbf-b8ab-f9336edae55e",
   "metadata": {},
   "outputs": [
    {
     "name": "stdout",
     "output_type": "stream",
     "text": [
      "No. The references do not work as 'real' pointers in C! When we change 'b', this is a re-assignment!\n",
      "Code:\n",
      "b = [0,0,0]\n",
      "print(id(a))\n",
      "print(id(b))\n",
      "print(a)\n",
      "\n"
     ]
    }
   ],
   "source": [
    "from solutions import solution_im2\n",
    "print(solution_im2)"
   ]
  },
  {
   "cell_type": "markdown",
   "id": "24a87233-f853-4d50-9feb-93982be78f7a",
   "metadata": {},
   "source": [
    "**NOTE: If a list or dict grows too large after adding too many elements, it may require reallocation of memory and therefore reflects a re-assignment of a new memory object identifier. \n",
    "In general, it is really nice that Python dynamically resizes lists and dictionaries as needed to accommodate new elements, i.e. handles this efficiently behind the scenes.\n",
    "However, this can come at the cost of performance, e.g. when a large dict key list has to be re-hased.**"
   ]
  },
  {
   "cell_type": "markdown",
   "id": "f08d26e4-d4d9-4d72-a546-6cf5dc433daf",
   "metadata": {},
   "source": [
    "**Take-away**:\n",
    "- For immutable types (like integers, strings, tuples): Reassigning a will not affect b. b will continue to point to the original object.\n",
    "- For mutable types (like lists, dictionaries, sets): If you modify the object in place (e.g., append to a list), both a and b will reflect the change, since they both point to the same object."
   ]
  },
  {
   "cell_type": "markdown",
   "id": "7318b7d4-d2fa-4f5e-8ce4-c8e5a61ed5f0",
   "metadata": {},
   "source": [
    "### Some Fun with Dicts"
   ]
  },
  {
   "cell_type": "code",
   "execution_count": 5,
   "id": "5dc3c557-3057-4500-a6b8-bafce05f8a54",
   "metadata": {},
   "outputs": [
    {
     "name": "stdout",
     "output_type": "stream",
     "text": [
      "{'apple': 1, 'banana': 2, 'cherry': 3}\n"
     ]
    }
   ],
   "source": [
    "keys = ['apple', 'banana', 'cherry']\n",
    "values = [1, 2, 3]\n",
    "my_dict = dict(zip(keys, values))\n",
    "print(my_dict)"
   ]
  },
  {
   "cell_type": "markdown",
   "id": "f7d6b047-8f8e-41b6-99d7-6763e03af85a",
   "metadata": {},
   "source": [
    "**Question 3**: Which builtin data types can be used as dictionary keys? "
   ]
  },
  {
   "cell_type": "code",
   "execution_count": 1,
   "id": "b9d8f9b8-9a48-409e-ad88-c0f9f09d966a",
   "metadata": {},
   "outputs": [
    {
     "name": "stdout",
     "output_type": "stream",
     "text": [
      "ALL immutable. Therefore, also tuples - as long as the elements are immutable!\n",
      "Code:\n",
      "print(dict({'apple': 1, 'banana': 2, ('apple','banana'): 3}))\n",
      "print(dict({'apple': 1, 'banana': 2, ('apple',['banana']): 3}))  # Will fail!\n",
      "\n"
     ]
    }
   ],
   "source": [
    "from solutions import solution_im3\n",
    "print(solution_im3)"
   ]
  },
  {
   "cell_type": "markdown",
   "id": "10e75687-541c-4d7a-b002-c6303f94fcca",
   "metadata": {},
   "source": [
    "#### Hashable \n",
    "A very important keyword in this context is 'hashable'. \n",
    "An object is hashable if it has a hash value that remains constant during its lifetime -> the object needs to be immutable!\n",
    "\n",
    "Why this is important?\n",
    "\n",
    "The keys of dicts and sets need to be hashable, as a dict is essentially an abstracted version of a HashMap.\n",
    "Theses are particularly performant, as a lookup is in O(1), even for large sizes!\n",
    "As a consequence, dictionaries cannot have duplicate keys. This can cause problems if not handled correctly, see below:"
   ]
  },
  {
   "cell_type": "code",
   "execution_count": 22,
   "id": "1827e757-4cee-48fb-83c8-8374b02c49d5",
   "metadata": {},
   "outputs": [
    {
     "name": "stdout",
     "output_type": "stream",
     "text": [
      "-1145892422256446035\n",
      "111111111111\n",
      "111111111111\n",
      "140677851756016\n",
      "140677851755504\n"
     ]
    }
   ],
   "source": [
    "s = \"hello\"  # str\n",
    "\n",
    "print(hash(s))  # Output: (some integer hash value based on the string's contents)\n",
    "# int's __hash__ does not provide an individual hash\n",
    "x = 111111111111\n",
    "print(hash(x))\n",
    "y = 111111111111\n",
    "print(hash(y))\n",
    "print(id(x))\n",
    "print(id(y))"
   ]
  },
  {
   "cell_type": "markdown",
   "id": "6228b700-d194-44eb-831f-e457da90626e",
   "metadata": {},
   "source": [
    "What we observe here is a hash collision! The consequence is: we need to be careful when dynamically creating dicts!"
   ]
  },
  {
   "cell_type": "code",
   "execution_count": 26,
   "id": "990837d6-bfb7-44d1-beee-c1424712132e",
   "metadata": {},
   "outputs": [
    {
     "data": {
      "text/plain": [
       "{111111111111: 2, 'cherry': 3}"
      ]
     },
     "execution_count": 26,
     "metadata": {},
     "output_type": "execute_result"
    }
   ],
   "source": [
    "my_dict = dict({x: 1, y: 2, 'cherry': 3})\n",
    "my_dict  # A duplicate key will point to the last value assigned to it! Be careful! The other value is neglected"
   ]
  },
  {
   "cell_type": "markdown",
   "id": "5dd6a7f7-5c80-428f-8e48-8a489490b3f9",
   "metadata": {},
   "source": [
    "**Hash-Collisions**\n",
    "\n",
    "When you use hash-based collections like dictionaries and sets, hash collisions are handled using additional logic:\n",
    "\n",
    "- **Dictionaries**: If multiple keys have the same hash value, Python will only keep the latest! If a random hash collision occurs, Python can also handle this, but never happend to me...\n",
    "\n",
    "- **Sets**: When adding an element to a set, Python checks the hash of the element. If another element with the same hash exists, Python compares the elements using __eq__() to determine whether it’s the same element. If not, it adds the new element."
   ]
  },
  {
   "cell_type": "markdown",
   "id": "2bb5cbd6-76f1-4ead-957c-f47ad2ad6914",
   "metadata": {},
   "source": [
    "#### Is it useful to use batch insertions?\n",
    "Definitely! However, the single insertions for simple types are well optimized in Python:"
   ]
  },
  {
   "cell_type": "code",
   "execution_count": 40,
   "id": "70a39161-3c31-431f-8460-1d5528f32786",
   "metadata": {},
   "outputs": [
    {
     "name": "stdout",
     "output_type": "stream",
     "text": [
      "Time taken for individual insertions: 0.013984 seconds\n",
      "Time taken for batch insertions: 0.023758 seconds\n"
     ]
    }
   ],
   "source": [
    "import timeit\n",
    "\n",
    "# Function for individual insertions\n",
    "def individual_insertions():\n",
    "    d = {}\n",
    "    for i in range(1, 100000):\n",
    "        d[i] = i * 2\n",
    "    return d\n",
    "\n",
    "# Function for batch insertions\n",
    "def batch_insertions():\n",
    "    \n",
    "    items = [(i, i * 2) for i in range(1, 100000)]\n",
    "    d = dict(items)\n",
    "    return d\n",
    "\n",
    "# Measure time for individual insertions\n",
    "individual_time = timeit.timeit(individual_insertions, number=1)\n",
    "\n",
    "# Measure time for batch insertions\n",
    "batch_time = timeit.timeit(batch_insertions, number=1)\n",
    "\n",
    "print(f\"Time taken for individual insertions: {individual_time:.6f} seconds\")\n",
    "print(f\"Time taken for batch insertions: {batch_time:.6f} seconds\")\n"
   ]
  },
  {
   "cell_type": "markdown",
   "id": "c8d58fa7-88d8-4da4-90b8-b64d16e16516",
   "metadata": {},
   "source": [
    "Here, a list/batch insertion is even worse!\n",
    "\n",
    "But for **pandas**, this looks different:"
   ]
  },
  {
   "cell_type": "code",
   "execution_count": 39,
   "id": "b23b3072-4acb-4a1b-a52d-2b467e5efa80",
   "metadata": {
    "jp-MarkdownHeadingCollapsed": true
   },
   "outputs": [
    {
     "name": "stdout",
     "output_type": "stream",
     "text": [
      "Time taken to create DataFrame from list: 0.011452 seconds\n",
      "Time taken to create DataFrame by adding rows: 3.567854 seconds\n"
     ]
    }
   ],
   "source": [
    "import pandas as pd\n",
    "import time\n",
    "\n",
    "# 1. Efficient Method: Create List, Then Convert to DataFrame\n",
    "def create_df_from_list():\n",
    "    data = []\n",
    "    for i in range(1, 10000):  # Use a smaller number for testing\n",
    "        data.append({'A': i, 'B': i * 2})\n",
    "    df = pd.DataFrame(data)\n",
    "    return df\n",
    "\n",
    "# 2. Inefficient Method: Row-by-row Insertion using pd.concat()\n",
    "def create_df_by_adding_rows():\n",
    "    df = pd.DataFrame(columns=['A', 'B'])\n",
    "    for i in range(1, 10000):  # Use a smaller number for testing\n",
    "        new_row = pd.DataFrame({'A': [i], 'B': [i * 2]})\n",
    "        df = pd.concat([df, new_row], ignore_index=True)  # Concatenate one row at a time\n",
    "    return df\n",
    "\n",
    "# Measure the time for efficient method (Create List, Then Convert)\n",
    "start_time = time.time()\n",
    "create_df_from_list()\n",
    "end_time = time.time()\n",
    "print(f\"Time taken to create DataFrame from list: {end_time - start_time:.6f} seconds\")\n",
    "\n",
    "# Measure the time for inefficient method (Row-by-row Insertion using pd.concat)\n",
    "start_time = time.time()\n",
    "create_df_by_adding_rows()\n",
    "end_time = time.time()\n",
    "print(f\"Time taken to create DataFrame by adding rows: {end_time - start_time:.6f} seconds\")\n"
   ]
  },
  {
   "cell_type": "markdown",
   "id": "88e42b12-11fc-400a-9b64-8422164944db",
   "metadata": {},
   "source": [
    "### Take-away\n",
    "- **Use dicts, they are nice and performant!**\n",
    "- They can be dynamically resized\n",
    "- For integers, the __hash__() method just returns the integer itself\n",
    "- A hash is not necessarily unique -> Be careful with dicts and sets\n",
    "- In general, two individual objects with the same value have the same hash\n",
    "    - As a consequence, they cannot be used as individual keys!\n",
    "    - In a dict, the latest added key:value pair is kept\n",
    "    - In sets, the old value is overwritten"
   ]
  },
  {
   "cell_type": "markdown",
   "id": "d9086f9a-dd8d-4a53-a508-951ee7059053",
   "metadata": {},
   "source": [
    "## Callable\n",
    "Hey, I just met you, and this is crazy, so here's my number, so call me maybe."
   ]
  },
  {
   "cell_type": "markdown",
   "id": "9fe06e8f-7a61-4938-87ef-e975b174958f",
   "metadata": {},
   "source": [
    "Callables are simply objects in Python that implement **_ _call_ _**. This means, they are callable with \"()\", like functions."
   ]
  },
  {
   "cell_type": "code",
   "execution_count": 68,
   "id": "89ec7c6b-392e-403d-9a27-bbe83e43ed89",
   "metadata": {},
   "outputs": [
    {
     "name": "stdout",
     "output_type": "stream",
     "text": [
      "<class 'function'>\n",
      "True\n",
      "False\n",
      "Caught an error: 'int' object has no attribute '__call__'\n",
      "Type of the exception: <class 'AttributeError'>\n"
     ]
    }
   ],
   "source": [
    "def my_func(a):\n",
    "    print(a)\n",
    "x = 1\n",
    "print(type(my_func))\n",
    "print(callable(my_func))\n",
    "print(callable(x))\n",
    "\n",
    "try:\n",
    "    x.__call__\n",
    "except (AttributeError, Exception) as e:\n",
    "    print(f\"Caught an error: {e}\")\n",
    "    # Deduce and print the type of the exception\n",
    "    print(f\"Type of the exception: {type(e)}\")"
   ]
  },
  {
   "cell_type": "markdown",
   "id": "4c1ae9bb-045c-46b4-bdff-7bb8087beae6",
   "metadata": {},
   "source": [
    "**Question**: why is int callable in the following example?!"
   ]
  },
  {
   "cell_type": "code",
   "execution_count": 57,
   "id": "6ef407c3-850e-4d3a-8073-c43c41e46a7e",
   "metadata": {},
   "outputs": [
    {
     "name": "stdout",
     "output_type": "stream",
     "text": [
      "1\n"
     ]
    },
    {
     "data": {
      "text/plain": [
       "<method-wrapper '__call__' of type object at 0x7ff23145ace0>"
      ]
     },
     "execution_count": 57,
     "metadata": {},
     "output_type": "execute_result"
    }
   ],
   "source": [
    "my_func.__call__(1)\n",
    "int.__call__(1)"
   ]
  },
  {
   "cell_type": "markdown",
   "id": "2019b8b6-4067-4db7-844d-0523d121ee66",
   "metadata": {},
   "source": [
    "Your answer:"
   ]
  },
  {
   "cell_type": "code",
   "execution_count": 1,
   "id": "158dcaf9-5a40-4cee-984a-153d3347096e",
   "metadata": {},
   "outputs": [
    {
     "name": "stdout",
     "output_type": "stream",
     "text": [
      "int() is simply the int constructor, which can be used for casting!\n"
     ]
    }
   ],
   "source": [
    "from solutions import solution_call1\n",
    "print(solution_call1)"
   ]
  },
  {
   "cell_type": "markdown",
   "id": "ced6a785-c2b2-49b7-9733-5d10b01b28ee",
   "metadata": {},
   "source": [
    "Note: **All functions are callable, but not all callables are functions**: You can implement a class with a member **_ _call_ _**, which is then of your class type."
   ]
  },
  {
   "cell_type": "markdown",
   "id": "dfda5ce5-52a1-4281-8be0-a133d01f34bc",
   "metadata": {},
   "source": [
    "In combination with the dynamic typing in Python, this concept is super useful, because it allows us the referencing of function:"
   ]
  },
  {
   "cell_type": "code",
   "execution_count": 8,
   "id": "ea59cc5e-821d-45c4-9d24-cb3f22da22b0",
   "metadata": {},
   "outputs": [
    {
     "data": {
      "text/plain": [
       "<function __main__.my_func(x)>"
      ]
     },
     "execution_count": 8,
     "metadata": {},
     "output_type": "execute_result"
    }
   ],
   "source": [
    "def my_func(x):\n",
    "    print(x)\n",
    "a = my_func\n",
    "a"
   ]
  },
  {
   "cell_type": "markdown",
   "id": "7d750da6-ada6-45d2-8d7d-04e18bc19b1b",
   "metadata": {},
   "source": [
    "**This is the basis for pipelining in python!**\n",
    "\n",
    "We can pass a function as an argument to another function and everything (all types etc) is automatically handeled!"
   ]
  },
  {
   "cell_type": "markdown",
   "id": "5024d7fd-3b32-477b-95c2-272bdaa451e9",
   "metadata": {},
   "source": [
    "### Callback\n",
    "Another nice use of callables are callbacks.\n",
    "These are functions that are passed as arguments to other functions and executed when a specific condition or event occurs. \n",
    "They allow for customizable behavior, enabling functions to delegate part of their logic to external code.\n",
    "\n",
    "(I mostly use them for tracing/logging)"
   ]
  },
  {
   "cell_type": "code",
   "execution_count": 26,
   "id": "cf3ad6f8-9fde-43ee-9b51-a3aead02695d",
   "metadata": {},
   "outputs": [
    {
     "name": "stdout",
     "output_type": "stream",
     "text": [
      "6.9\n",
      "6\n"
     ]
    }
   ],
   "source": [
    "# Dynamic type selection\n",
    "def process_data(data, callback):\n",
    "    result = sum(data)\n",
    "    return callback(result)\n",
    "\n",
    "data = [1.2, 2.3, 3.4]\n",
    "print(process_data(data, float))\n",
    "print(process_data(data, int))"
   ]
  },
  {
   "cell_type": "code",
   "execution_count": 13,
   "id": "67bc0601-7298-46a5-adfd-c114938a54f8",
   "metadata": {},
   "outputs": [
    {
     "name": "stdout",
     "output_type": "stream",
     "text": [
      "Establishing connection...\n",
      "[TRACE] Connected to 127.0.0.1.\n"
     ]
    }
   ],
   "source": [
    "def log_connection(message):\n",
    "    print(f\"[TRACE] {message}\")  # In production, this would write to a log \n",
    "\n",
    "def make_connection(host, callback):\n",
    "    print(\"Establishing connection...\")\n",
    "    callback(f\"Connected to {host}.\")\n",
    "\n",
    "# Example usage\n",
    "make_connection(\"127.0.0.1\", log_connection)"
   ]
  },
  {
   "cell_type": "markdown",
   "id": "d1bc5e07-807f-4a24-909a-5526a881510c",
   "metadata": {},
   "source": [
    "### Decorators\n",
    "A decorator is essentially simply a function that takes another function as an argument and modifies the behavior of the other function or method, allowing to add functionality (like logging, timing, etc.) without changing their core logic."
   ]
  },
  {
   "cell_type": "markdown",
   "id": "c59342a7-de2c-45b7-b449-8adfecd9cdf5",
   "metadata": {},
   "source": [
    "#### Example 1: Timing"
   ]
  },
  {
   "cell_type": "code",
   "execution_count": 54,
   "id": "37498847-5628-4d4b-8748-1c5300962679",
   "metadata": {},
   "outputs": [
    {
     "name": "stdout",
     "output_type": "stream",
     "text": [
      "sum took 0.0433 seconds\n"
     ]
    },
    {
     "data": {
      "text/plain": [
       "1000000"
      ]
     },
     "execution_count": 54,
     "metadata": {},
     "output_type": "execute_result"
    }
   ],
   "source": [
    "import time, math\n",
    "from functools import wraps\n",
    "\n",
    "def timing_decorator(func):\n",
    "    @wraps(func)  # This decorator preserves the original function's metadata\n",
    "    def wrapper(*args, **kwargs):\n",
    "        start = time.time()\n",
    "        result = func(*args, **kwargs)\n",
    "        end = time.time()\n",
    "        print(f\"{func.__name__} took {(end - start):.4f} seconds\")\n",
    "        return result\n",
    "    return wrapper\n",
    "\n",
    "@timing_decorator\n",
    "def sum(n):\n",
    "    sum = 0\n",
    "    for sum in range(n):  # This should be shitty ;-)\n",
    "        sum += 1\n",
    "    return sum\n",
    "\n",
    "sum(1000000)\n",
    "    "
   ]
  },
  {
   "cell_type": "markdown",
   "id": "14f7c8bd-32e6-40e1-a885-42c406e6b543",
   "metadata": {},
   "source": [
    "#### Example 2: Logging"
   ]
  },
  {
   "cell_type": "code",
   "execution_count": 55,
   "id": "2551a7ad-1d7e-48ff-a2b7-41ffaf3737d6",
   "metadata": {},
   "outputs": [
    {
     "name": "stdout",
     "output_type": "stream",
     "text": [
      "[LOG] Calling sum with args=(10000,), kwargs={}\n"
     ]
    },
    {
     "data": {
      "text/plain": [
       "10000"
      ]
     },
     "execution_count": 55,
     "metadata": {},
     "output_type": "execute_result"
    }
   ],
   "source": [
    "def logging_decorator(func):\n",
    "    @wraps(func)\n",
    "    def wrapper(*args, **kwargs):\n",
    "        print(f\"[LOG] Calling {func.__name__} with args={args}, kwargs={kwargs}\")\n",
    "        return func(*args, **kwargs)\n",
    "    return wrapper\n",
    "\n",
    "@logging_decorator\n",
    "def sum(n):\n",
    "    sum = 0\n",
    "    for sum in range(n):  # This should be shitty ;-)\n",
    "        sum += 1\n",
    "    return sum\n",
    "    \n",
    "sum(10000)"
   ]
  },
  {
   "cell_type": "markdown",
   "id": "20f490a6-250d-4096-8f99-2fbf6454c9a5",
   "metadata": {},
   "source": [
    "#### Example 3: Stacking"
   ]
  },
  {
   "cell_type": "code",
   "execution_count": 58,
   "id": "1a7c6959-ead0-4432-9a83-86c32bf5d081",
   "metadata": {},
   "outputs": [
    {
     "name": "stdout",
     "output_type": "stream",
     "text": [
      "[LOG] Calling sum with args=(10000,), kwargs={}\n",
      "sum took 0.0004 seconds\n"
     ]
    },
    {
     "data": {
      "text/plain": [
       "10000"
      ]
     },
     "execution_count": 58,
     "metadata": {},
     "output_type": "execute_result"
    }
   ],
   "source": [
    "@logging_decorator  # Applied second\n",
    "@timing_decorator  # Applied first\n",
    "def sum(n):\n",
    "    sum = 0\n",
    "    for sum in range(n):  # This should be shitty ;-)\n",
    "        sum += 1\n",
    "    return sum\n",
    "    \n",
    "sum(10000)"
   ]
  },
  {
   "cell_type": "markdown",
   "id": "92a93f32-354d-4f91-afcd-364b88738686",
   "metadata": {},
   "source": [
    "**Question**: Why this way round?"
   ]
  },
  {
   "cell_type": "markdown",
   "id": "a6fb393b-a4c5-45bf-ad39-3c5f97646eea",
   "metadata": {},
   "source": [
    "Your answer:"
   ]
  },
  {
   "cell_type": "code",
   "execution_count": 1,
   "id": "5be8a022-a055-48f3-85a9-d7b1315dad5b",
   "metadata": {},
   "outputs": [
    {
     "name": "stdout",
     "output_type": "stream",
     "text": [
      "The logging should not spoil the runtime measurement!\n"
     ]
    }
   ],
   "source": [
    "from solutions import solution_call2\n",
    "print(solution_call2)"
   ]
  },
  {
   "cell_type": "markdown",
   "id": "a13263f4",
   "metadata": {},
   "source": [
    "---------------------"
   ]
  },
  {
   "cell_type": "markdown",
   "id": "6515046f-3c47-44df-b4c7-15ec02168ba5",
   "metadata": {},
   "source": [
    "# OOP\n",
    "This is a wild example that shows, how OOP can be exploited.\n",
    "In general, OOP shoul only be used in larger projects and is typically an overkill in one-shot scripts (imho).\n",
    "On top, with OOP one can do a lot of wierd things, and doing it right can be complicated. "
   ]
  },
  {
   "cell_type": "code",
   "execution_count": 73,
   "id": "1e529c66-90ae-4695-9533-ff47b77363cd",
   "metadata": {},
   "outputs": [
    {
     "name": "stdout",
     "output_type": "stream",
     "text": [
      "Hello, John! Your value is 42.\n",
      "Hey, John! Your value is now 84.\n",
      "Crazy Alice!\n",
      "Combined greeting for Bob with value 100!\n",
      "Crazy Bob!\n"
     ]
    }
   ],
   "source": [
    "# First, let's create a basic class dynamically using `type`\n",
    "def dynamic_method(self):\n",
    "    return f\"Hello, {self.name}! Your value is {self.value}.\"\n",
    "\n",
    "DynamicClass = type(\"DynamicClass\", (object,), {\n",
    "    \"name\": \"John\",\n",
    "    \"value\": 42,\n",
    "    \"greet\": dynamic_method\n",
    "})\n",
    "\n",
    "# Now, let's create an instance of this dynamically created class\n",
    "instance = DynamicClass()\n",
    "\n",
    "# Print the result of calling the dynamically created method\n",
    "print(instance.greet())  # Output: Hello, John! Your value is 42.\n",
    "\n",
    "# Now let's monkey-patch the class to change the behavior of `greet`\n",
    "def new_greet(self):\n",
    "    return f\"Hey, {self.name}! Your value is now {self.value * 2}.\"\n",
    "\n",
    "# Monkey patch the greet method\n",
    "DynamicClass.greet = new_greet\n",
    "\n",
    "# Let's see the new behavior after monkey patching\n",
    "print(instance.greet())  # Output: Hey, John! Your value is now 84.\n",
    "\n",
    "\n",
    "# Use CrazyMeta as the metaclass for a new class\n",
    "class AnotherClass(metaclass=CrazyMeta):\n",
    "    def __init__(self, name):\n",
    "        self.name = name\n",
    "\n",
    "# Create an instance of the class with the metaclass\n",
    "another_instance = AnotherClass(\"Alice\")\n",
    "\n",
    "# Calling the dynamically added method from the metaclass\n",
    "print(another_instance.crazy_method())  # Output: Crazy Alice!\n",
    "\n",
    "# Define a metaclass that adds a crazy method to any class\n",
    "class CrazyMeta(type):\n",
    "    def __new__(cls, name, bases, dct):\n",
    "        dct[\"crazy_method\"] = lambda self: f\"Crazy {self.name}!\"\n",
    "        return super().__new__(cls, name, bases, dct)\n",
    "\n",
    "# Now define a normal class that uses the metaclass and dynamic method creation\n",
    "class CombinedClass(metaclass=CrazyMeta):\n",
    "    def __init__(self, name, value):\n",
    "        self.name = name\n",
    "        self.value = value\n",
    "\n",
    "    def greet(self):\n",
    "        return f\"Combined greeting for {self.name} with value {self.value}!\"\n",
    "\n",
    "# Create an instance of the CombinedClass\n",
    "combined_instance = CombinedClass(\"Bob\", 100)\n",
    "\n",
    "# Test the dynamically added and modified methods\n",
    "print(combined_instance.greet())        # Output: Combined greeting for Bob with value 100!\n",
    "print(combined_instance.crazy_method()) # Output: Crazy Bob!"
   ]
  },
  {
   "cell_type": "markdown",
   "id": "2d4b4c2e-116c-495a-8b1c-f35ce5b79507",
   "metadata": {},
   "source": [
    "If you need or want to rely on OOP, abstracted base classes can help to constrain the potential chaos:"
   ]
  },
  {
   "cell_type": "code",
   "execution_count": 75,
   "id": "6ea1ef7a-516e-46a2-860d-73040976739c",
   "metadata": {},
   "outputs": [
    {
     "name": "stdout",
     "output_type": "stream",
     "text": [
      "Using Stripe:\n",
      "Stripe initialized with API key: example_api_key\n",
      "Processing payment of 100.0 USD using Stripe.\n",
      "Checking status of payment stripe_12345 using Stripe.\n",
      "Payment Status: completed\n",
      "\n",
      "Using PayPal:\n",
      "PayPal initialized with API key: example_api_key\n",
      "Processing payment of 200.0 EUR using PayPal.\n",
      "Checking status of payment paypal_67890 using PayPal.\n",
      "Payment Status: completed\n"
     ]
    }
   ],
   "source": [
    "from abc import ABC, abstractmethod\n",
    "\n",
    "# Abstract Base Class for Payment Gateway\n",
    "class PaymentGateway(ABC):\n",
    "    \n",
    "    @abstractmethod\n",
    "    def initialize(self, api_key: str):\n",
    "        \"\"\"Initialize the payment gateway with an API key.\"\"\"\n",
    "        pass\n",
    "    \n",
    "    @abstractmethod\n",
    "    def process_payment(self, amount: float, currency: str):\n",
    "        \"\"\"Process a payment of a given amount.\"\"\"\n",
    "        pass\n",
    "    \n",
    "    @abstractmethod\n",
    "    def check_payment_status(self, payment_id: str):\n",
    "        \"\"\"Check the status of a payment.\"\"\"\n",
    "        pass\n",
    "\n",
    "# Concrete implementation of Stripe payment gateway\n",
    "class StripePaymentGateway(PaymentGateway):\n",
    "    def __init__(self):\n",
    "        self.api_key = None\n",
    "    \n",
    "    def initialize(self, api_key: str):\n",
    "        self.api_key = api_key\n",
    "        print(f\"Stripe initialized with API key: {self.api_key}\")\n",
    "    \n",
    "    def process_payment(self, amount: float, currency: str):\n",
    "        print(f\"Processing payment of {amount} {currency} using Stripe.\")\n",
    "        # Simulate a successful payment\n",
    "        return {\"status\": \"success\", \"payment_id\": \"stripe_12345\"}\n",
    "    \n",
    "    def check_payment_status(self, payment_id: str):\n",
    "        print(f\"Checking status of payment {payment_id} using Stripe.\")\n",
    "        # Simulate checking status (in reality, it would check an API)\n",
    "        return {\"status\": \"completed\", \"payment_id\": payment_id}\n",
    "\n",
    "# Concrete implementation of PayPal payment gateway\n",
    "class PayPalPaymentGateway(PaymentGateway):\n",
    "    def __init__(self):\n",
    "        self.api_key = None\n",
    "    \n",
    "    def initialize(self, api_key: str):\n",
    "        self.api_key = api_key\n",
    "        print(f\"PayPal initialized with API key: {self.api_key}\")\n",
    "    \n",
    "    def process_payment(self, amount: float, currency: str):\n",
    "        print(f\"Processing payment of {amount} {currency} using PayPal.\")\n",
    "        # Simulate a successful payment\n",
    "        return {\"status\": \"success\", \"payment_id\": \"paypal_67890\"}\n",
    "    \n",
    "    def check_payment_status(self, payment_id: str):\n",
    "        print(f\"Checking status of payment {payment_id} using PayPal.\")\n",
    "        # Simulate checking status (in reality, it would check an API)\n",
    "        return {\"status\": \"completed\", \"payment_id\": payment_id}\n",
    "\n",
    "# Example usage:\n",
    "\n",
    "def process_payment(gateway: PaymentGateway, amount: float, currency: str):\n",
    "    # Initialize the gateway with an example API key\n",
    "    gateway.initialize(\"example_api_key\")\n",
    "    \n",
    "    # Process the payment\n",
    "    payment_response = gateway.process_payment(amount, currency)\n",
    "    \n",
    "    # Check the payment status\n",
    "    status_response = gateway.check_payment_status(payment_response[\"payment_id\"])\n",
    "    \n",
    "    print(f\"Payment Status: {status_response['status']}\")\n",
    "\n",
    "# Now we can use the different gateways interchangeably:\n",
    "stripe_gateway = StripePaymentGateway()\n",
    "paypal_gateway = PayPalPaymentGateway()\n",
    "\n",
    "# Process a payment using Stripe\n",
    "print(\"Using Stripe:\")\n",
    "process_payment(stripe_gateway, 100.0, \"USD\")\n",
    "\n",
    "# Process a payment using PayPal\n",
    "print(\"\\nUsing PayPal:\")\n",
    "process_payment(paypal_gateway, 200.0, \"EUR\")\n"
   ]
  },
  {
   "cell_type": "code",
   "execution_count": null,
   "id": "16896852-bdc5-4b56-8340-7a357bcc2e25",
   "metadata": {},
   "outputs": [],
   "source": []
  }
 ],
 "metadata": {
  "@webio": {
   "lastCommId": null,
   "lastKernelId": null
  },
  "kernelspec": {
   "display_name": "Python 3",
   "language": "python",
   "name": "python3"
  },
  "language_info": {
   "codemirror_mode": {
    "name": "ipython",
    "version": 3
   },
   "file_extension": ".py",
   "mimetype": "text/x-python",
   "name": "python",
   "nbconvert_exporter": "python",
   "pygments_lexer": "ipython3",
   "version": "3.11.9"
  }
 },
 "nbformat": 4,
 "nbformat_minor": 5
}
